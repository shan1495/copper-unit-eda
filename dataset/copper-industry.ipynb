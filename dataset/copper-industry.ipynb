{
 "cells": [
  {
   "cell_type": "code",
   "execution_count": 1,
   "id": "69c36f15-a68a-4c50-b812-012bf08e4c0f",
   "metadata": {},
   "outputs": [],
   "source": [
    "import pandas as pd\n",
    "import seaborn as sb\n",
    "import matplotlib.pyplot as plt\n",
    "from sklearn.preprocessing import LabelEncoder"
   ]
  },
  {
   "cell_type": "code",
   "execution_count": 2,
   "id": "6223c599-4f3e-4142-a77c-d949ad1b5358",
   "metadata": {},
   "outputs": [
    {
     "data": {
      "text/html": [
       "<div>\n",
       "<style scoped>\n",
       "    .dataframe tbody tr th:only-of-type {\n",
       "        vertical-align: middle;\n",
       "    }\n",
       "\n",
       "    .dataframe tbody tr th {\n",
       "        vertical-align: top;\n",
       "    }\n",
       "\n",
       "    .dataframe thead th {\n",
       "        text-align: right;\n",
       "    }\n",
       "</style>\n",
       "<table border=\"1\" class=\"dataframe\">\n",
       "  <thead>\n",
       "    <tr style=\"text-align: right;\">\n",
       "      <th></th>\n",
       "      <th>id</th>\n",
       "      <th>item_date</th>\n",
       "      <th>quantity tons</th>\n",
       "      <th>customer</th>\n",
       "      <th>country</th>\n",
       "      <th>status</th>\n",
       "      <th>item type</th>\n",
       "      <th>application</th>\n",
       "      <th>thickness</th>\n",
       "      <th>width</th>\n",
       "      <th>material_ref</th>\n",
       "      <th>product_ref</th>\n",
       "      <th>delivery date</th>\n",
       "      <th>selling_price</th>\n",
       "    </tr>\n",
       "  </thead>\n",
       "  <tbody>\n",
       "    <tr>\n",
       "      <th>0</th>\n",
       "      <td>EC06F063-9DF0-440C-8764-0B0C05A4F6AE</td>\n",
       "      <td>20210401</td>\n",
       "      <td>54.15113862</td>\n",
       "      <td>30156308</td>\n",
       "      <td>28</td>\n",
       "      <td>Won</td>\n",
       "      <td>W</td>\n",
       "      <td>10</td>\n",
       "      <td>2</td>\n",
       "      <td>1500</td>\n",
       "      <td>DEQ1 S460MC</td>\n",
       "      <td>1670798778</td>\n",
       "      <td>20210701</td>\n",
       "      <td>854</td>\n",
       "    </tr>\n",
       "    <tr>\n",
       "      <th>1</th>\n",
       "      <td>4E5F4B3D-DDDF-499D-AFDE-A3227EC49425</td>\n",
       "      <td>20210401</td>\n",
       "      <td>768.0248392</td>\n",
       "      <td>30202938</td>\n",
       "      <td>25</td>\n",
       "      <td>Won</td>\n",
       "      <td>W</td>\n",
       "      <td>41</td>\n",
       "      <td>0.8</td>\n",
       "      <td>1210</td>\n",
       "      <td>0000000000000000000000000000000000104991</td>\n",
       "      <td>1668701718</td>\n",
       "      <td>20210401</td>\n",
       "      <td>1047</td>\n",
       "    </tr>\n",
       "    <tr>\n",
       "      <th>2</th>\n",
       "      <td>E140FF1B-2407-4C02-A0DD-780A093B1158</td>\n",
       "      <td>20210401</td>\n",
       "      <td>386.1279489</td>\n",
       "      <td>30153963</td>\n",
       "      <td>30</td>\n",
       "      <td>Won</td>\n",
       "      <td>WI</td>\n",
       "      <td>28</td>\n",
       "      <td>0.38</td>\n",
       "      <td>952</td>\n",
       "      <td>S0380700</td>\n",
       "      <td>628377</td>\n",
       "      <td>20210101</td>\n",
       "      <td>644.33</td>\n",
       "    </tr>\n",
       "    <tr>\n",
       "      <th>3</th>\n",
       "      <td>F8D507A0-9C62-4EFE-831E-33E1DA53BB50</td>\n",
       "      <td>20210401</td>\n",
       "      <td>202.4110654</td>\n",
       "      <td>30349574</td>\n",
       "      <td>32</td>\n",
       "      <td>Won</td>\n",
       "      <td>S</td>\n",
       "      <td>59</td>\n",
       "      <td>2.3</td>\n",
       "      <td>1317</td>\n",
       "      <td>DX51D+ZM310MAO 2.3X1317</td>\n",
       "      <td>1668701718</td>\n",
       "      <td>20210101</td>\n",
       "      <td>768</td>\n",
       "    </tr>\n",
       "    <tr>\n",
       "      <th>4</th>\n",
       "      <td>4E1C4E78-152B-430A-8094-ADD889C9D0AD</td>\n",
       "      <td>20210401</td>\n",
       "      <td>785.5262616</td>\n",
       "      <td>30211560</td>\n",
       "      <td>28</td>\n",
       "      <td>Won</td>\n",
       "      <td>W</td>\n",
       "      <td>10</td>\n",
       "      <td>4</td>\n",
       "      <td>2000</td>\n",
       "      <td>2_S275JR+AR-CL1</td>\n",
       "      <td>640665</td>\n",
       "      <td>20210301</td>\n",
       "      <td>577</td>\n",
       "    </tr>\n",
       "  </tbody>\n",
       "</table>\n",
       "</div>"
      ],
      "text/plain": [
       "                                     id item_date quantity tons  customer  \\\n",
       "0  EC06F063-9DF0-440C-8764-0B0C05A4F6AE  20210401   54.15113862  30156308   \n",
       "1  4E5F4B3D-DDDF-499D-AFDE-A3227EC49425  20210401   768.0248392  30202938   \n",
       "2  E140FF1B-2407-4C02-A0DD-780A093B1158  20210401   386.1279489  30153963   \n",
       "3  F8D507A0-9C62-4EFE-831E-33E1DA53BB50  20210401   202.4110654  30349574   \n",
       "4  4E1C4E78-152B-430A-8094-ADD889C9D0AD  20210401   785.5262616  30211560   \n",
       "\n",
       "  country status item type application thickness width  \\\n",
       "0      28    Won         W          10         2  1500   \n",
       "1      25    Won         W          41       0.8  1210   \n",
       "2      30    Won        WI          28      0.38   952   \n",
       "3      32    Won         S          59       2.3  1317   \n",
       "4      28    Won         W          10         4  2000   \n",
       "\n",
       "                               material_ref product_ref delivery date  \\\n",
       "0                               DEQ1 S460MC  1670798778      20210701   \n",
       "1  0000000000000000000000000000000000104991  1668701718      20210401   \n",
       "2                                  S0380700      628377      20210101   \n",
       "3                   DX51D+ZM310MAO 2.3X1317  1668701718      20210101   \n",
       "4                           2_S275JR+AR-CL1      640665      20210301   \n",
       "\n",
       "  selling_price  \n",
       "0           854  \n",
       "1          1047  \n",
       "2        644.33  \n",
       "3           768  \n",
       "4           577  "
      ]
     },
     "execution_count": 2,
     "metadata": {},
     "output_type": "execute_result"
    }
   ],
   "source": [
    "df = pd.read_csv('Copper_Set.csv',dtype='unicode')\n",
    "df.head()"
   ]
  },
  {
   "cell_type": "code",
   "execution_count": 3,
   "id": "4dc37e03-3d07-47c9-98f0-91b6ab4ba94c",
   "metadata": {},
   "outputs": [
    {
     "data": {
      "text/plain": [
       "(181673, 14)"
      ]
     },
     "execution_count": 3,
     "metadata": {},
     "output_type": "execute_result"
    }
   ],
   "source": [
    "df.shape        "
   ]
  },
  {
   "cell_type": "code",
   "execution_count": 4,
   "id": "37de08d3-f964-4eb6-9081-068c682b1fc7",
   "metadata": {},
   "outputs": [],
   "source": [
    "df = df.drop(df.query('item_date == \"19950000\" | item_date== \"20191919\"').index)"
   ]
  },
  {
   "cell_type": "code",
   "execution_count": 5,
   "id": "57427964-58eb-4cc8-98a8-f96f22e76acc",
   "metadata": {},
   "outputs": [],
   "source": [
    "df = df.drop(df.query('item_date==\"20210401\"').index)"
   ]
  },
  {
   "cell_type": "code",
   "execution_count": 6,
   "id": "dde61dbc-1874-4686-843e-a29ab32f1353",
   "metadata": {},
   "outputs": [
    {
     "name": "stdout",
     "output_type": "stream",
     "text": [
      "<class 'pandas.core.frame.DataFrame'>\n",
      "Index: 181012 entries, 660 to 181672\n",
      "Data columns (total 14 columns):\n",
      " #   Column         Non-Null Count   Dtype \n",
      "---  ------         --------------   ----- \n",
      " 0   id             181011 non-null  object\n",
      " 1   item_date      181011 non-null  object\n",
      " 2   quantity tons  181012 non-null  object\n",
      " 3   customer       181011 non-null  object\n",
      " 4   country        180984 non-null  object\n",
      " 5   status         181010 non-null  object\n",
      " 6   item type      181012 non-null  object\n",
      " 7   application    180988 non-null  object\n",
      " 8   thickness      181011 non-null  object\n",
      " 9   width          181012 non-null  object\n",
      " 10  material_ref   103545 non-null  object\n",
      " 11  product_ref    181012 non-null  object\n",
      " 12  delivery date  181011 non-null  object\n",
      " 13  selling_price  181011 non-null  object\n",
      "dtypes: object(14)\n",
      "memory usage: 20.7+ MB\n"
     ]
    }
   ],
   "source": [
    "df.info()"
   ]
  },
  {
   "cell_type": "code",
   "execution_count": 7,
   "id": "30d381e7-2ad1-4f53-94a7-f014d1600ad1",
   "metadata": {},
   "outputs": [
    {
     "data": {
      "text/plain": [
       "id                   1\n",
       "item_date            1\n",
       "quantity tons        0\n",
       "customer             1\n",
       "country             28\n",
       "status               2\n",
       "item type            0\n",
       "application         24\n",
       "thickness            1\n",
       "width                0\n",
       "material_ref     77467\n",
       "product_ref          0\n",
       "delivery date        1\n",
       "selling_price        1\n",
       "dtype: int64"
      ]
     },
     "execution_count": 7,
     "metadata": {},
     "output_type": "execute_result"
    }
   ],
   "source": [
    "df.isna().sum()"
   ]
  },
  {
   "cell_type": "code",
   "execution_count": null,
   "id": "6aea0b7b-d102-4fce-984d-50231674eb74",
   "metadata": {},
   "outputs": [],
   "source": []
  },
  {
   "cell_type": "code",
   "execution_count": 8,
   "id": "73d39dc2-cade-42e0-a4a5-88beafa42539",
   "metadata": {},
   "outputs": [
    {
     "data": {
      "text/html": [
       "<div>\n",
       "<style scoped>\n",
       "    .dataframe tbody tr th:only-of-type {\n",
       "        vertical-align: middle;\n",
       "    }\n",
       "\n",
       "    .dataframe tbody tr th {\n",
       "        vertical-align: top;\n",
       "    }\n",
       "\n",
       "    .dataframe thead th {\n",
       "        text-align: right;\n",
       "    }\n",
       "</style>\n",
       "<table border=\"1\" class=\"dataframe\">\n",
       "  <thead>\n",
       "    <tr style=\"text-align: right;\">\n",
       "      <th></th>\n",
       "      <th>id</th>\n",
       "      <th>item_date</th>\n",
       "      <th>quantity tons</th>\n",
       "      <th>customer</th>\n",
       "      <th>country</th>\n",
       "      <th>status</th>\n",
       "      <th>item type</th>\n",
       "      <th>application</th>\n",
       "      <th>thickness</th>\n",
       "      <th>width</th>\n",
       "      <th>material_ref</th>\n",
       "      <th>product_ref</th>\n",
       "      <th>delivery date</th>\n",
       "      <th>selling_price</th>\n",
       "    </tr>\n",
       "  </thead>\n",
       "  <tbody>\n",
       "    <tr>\n",
       "      <th>count</th>\n",
       "      <td>181011</td>\n",
       "      <td>181011</td>\n",
       "      <td>181012</td>\n",
       "      <td>181011</td>\n",
       "      <td>180984</td>\n",
       "      <td>181010</td>\n",
       "      <td>181012</td>\n",
       "      <td>180988</td>\n",
       "      <td>181011</td>\n",
       "      <td>181012</td>\n",
       "      <td>103545</td>\n",
       "      <td>181012</td>\n",
       "      <td>181011</td>\n",
       "      <td>181011</td>\n",
       "    </tr>\n",
       "    <tr>\n",
       "      <th>unique</th>\n",
       "      <td>181011</td>\n",
       "      <td>249</td>\n",
       "      <td>181012</td>\n",
       "      <td>1168</td>\n",
       "      <td>17</td>\n",
       "      <td>8</td>\n",
       "      <td>7</td>\n",
       "      <td>30</td>\n",
       "      <td>673</td>\n",
       "      <td>1387</td>\n",
       "      <td>16533</td>\n",
       "      <td>33</td>\n",
       "      <td>27</td>\n",
       "      <td>9771</td>\n",
       "    </tr>\n",
       "    <tr>\n",
       "      <th>top</th>\n",
       "      <td>C935F95A-F469-4533-BBB7-0DB1356581B6</td>\n",
       "      <td>20201202</td>\n",
       "      <td>85.26786769</td>\n",
       "      <td>30157111</td>\n",
       "      <td>78</td>\n",
       "      <td>Won</td>\n",
       "      <td>W</td>\n",
       "      <td>10</td>\n",
       "      <td>2</td>\n",
       "      <td>1250</td>\n",
       "      <td>DX51D+Z</td>\n",
       "      <td>611993</td>\n",
       "      <td>20210101</td>\n",
       "      <td>832</td>\n",
       "    </tr>\n",
       "    <tr>\n",
       "      <th>freq</th>\n",
       "      <td>1</td>\n",
       "      <td>2779</td>\n",
       "      <td>1</td>\n",
       "      <td>4988</td>\n",
       "      <td>31865</td>\n",
       "      <td>115507</td>\n",
       "      <td>105222</td>\n",
       "      <td>77224</td>\n",
       "      <td>12944</td>\n",
       "      <td>39026</td>\n",
       "      <td>922</td>\n",
       "      <td>45582</td>\n",
       "      <td>33026</td>\n",
       "      <td>399</td>\n",
       "    </tr>\n",
       "  </tbody>\n",
       "</table>\n",
       "</div>"
      ],
      "text/plain": [
       "                                          id item_date quantity tons  \\\n",
       "count                                 181011    181011        181012   \n",
       "unique                                181011       249        181012   \n",
       "top     C935F95A-F469-4533-BBB7-0DB1356581B6  20201202   85.26786769   \n",
       "freq                                       1      2779             1   \n",
       "\n",
       "        customer country  status item type application thickness   width  \\\n",
       "count     181011  180984  181010    181012      180988    181011  181012   \n",
       "unique      1168      17       8         7          30       673    1387   \n",
       "top     30157111      78     Won         W          10         2    1250   \n",
       "freq        4988   31865  115507    105222       77224     12944   39026   \n",
       "\n",
       "       material_ref product_ref delivery date selling_price  \n",
       "count        103545      181012        181011        181011  \n",
       "unique        16533          33            27          9771  \n",
       "top         DX51D+Z      611993      20210101           832  \n",
       "freq            922       45582         33026           399  "
      ]
     },
     "execution_count": 8,
     "metadata": {},
     "output_type": "execute_result"
    }
   ],
   "source": [
    "df.describe()"
   ]
  },
  {
   "cell_type": "code",
   "execution_count": 9,
   "id": "e4850694-4c4d-4edb-88e0-6add6edfc61c",
   "metadata": {},
   "outputs": [],
   "source": [
    "df = df.drop(df.query('`delivery date` == \"20212222\"').index)\n",
    "df = df.drop(df.query('(status !=\"Won\") and (status !=\"Lost\")').index)"
   ]
  },
  {
   "cell_type": "code",
   "execution_count": 10,
   "id": "963b3175-70b8-4b5d-b75b-291186be352e",
   "metadata": {},
   "outputs": [
    {
     "data": {
      "text/html": [
       "<div>\n",
       "<style scoped>\n",
       "    .dataframe tbody tr th:only-of-type {\n",
       "        vertical-align: middle;\n",
       "    }\n",
       "\n",
       "    .dataframe tbody tr th {\n",
       "        vertical-align: top;\n",
       "    }\n",
       "\n",
       "    .dataframe thead th {\n",
       "        text-align: right;\n",
       "    }\n",
       "</style>\n",
       "<table border=\"1\" class=\"dataframe\">\n",
       "  <thead>\n",
       "    <tr style=\"text-align: right;\">\n",
       "      <th></th>\n",
       "      <th>id</th>\n",
       "      <th>item_date</th>\n",
       "      <th>quantity tons</th>\n",
       "      <th>customer</th>\n",
       "      <th>country</th>\n",
       "      <th>status</th>\n",
       "      <th>item type</th>\n",
       "      <th>application</th>\n",
       "      <th>thickness</th>\n",
       "      <th>width</th>\n",
       "      <th>material_ref</th>\n",
       "      <th>product_ref</th>\n",
       "      <th>delivery date</th>\n",
       "      <th>selling_price</th>\n",
       "    </tr>\n",
       "  </thead>\n",
       "  <tbody>\n",
       "  </tbody>\n",
       "</table>\n",
       "</div>"
      ],
      "text/plain": [
       "Empty DataFrame\n",
       "Columns: [id, item_date, quantity tons, customer, country, status, item type, application, thickness, width, material_ref, product_ref, delivery date, selling_price]\n",
       "Index: []"
      ]
     },
     "execution_count": 10,
     "metadata": {},
     "output_type": "execute_result"
    }
   ],
   "source": [
    "df.query('(status != \"Won\") and (status !=\"Lost\")')"
   ]
  },
  {
   "cell_type": "code",
   "execution_count": 11,
   "id": "1ef67521-4805-4e84-8215-540ba3dd691d",
   "metadata": {},
   "outputs": [
    {
     "data": {
      "text/plain": [
       "(149866, 14)"
      ]
     },
     "execution_count": 11,
     "metadata": {},
     "output_type": "execute_result"
    }
   ],
   "source": [
    "#df = df.drop(labels=['material_ref'],axis=1)\n",
    "df.shape"
   ]
  },
  {
   "cell_type": "code",
   "execution_count": null,
   "id": "656ea40f-154f-4dde-bf6a-b66d6bbe8c97",
   "metadata": {},
   "outputs": [],
   "source": []
  },
  {
   "cell_type": "code",
   "execution_count": 12,
   "id": "8d9e5248-e7c4-4094-a948-b1ecbb51da55",
   "metadata": {},
   "outputs": [],
   "source": [
    "df['item_date']=pd.to_datetime(df['item_date'], format='mixed').dt.date\n",
    "df['delivery date']=pd.to_datetime(df['delivery date'],format='mixed').dt.date"
   ]
  },
  {
   "cell_type": "code",
   "execution_count": 13,
   "id": "d268bba7-01b3-41ab-82d7-e6939177d877",
   "metadata": {},
   "outputs": [
    {
     "data": {
      "image/png": "[encoded data removed]",
      "text/plain": [
       "<Figure size 640x480 with 1 Axes>"
      ]
     },
     "metadata": {},
     "output_type": "display_data"
    }
   ],
   "source": [
    "fig, ax = plt.subplots(1,1)\n",
    "sb.histplot(data=df,x='delivery date',binwidth=10,kde=True,bins=20, label=\"Skewness: %.2f\"%(df[\"selling_price\"].skew()))\n",
    "plt.figure(fig)\n",
    "plt.show()"
   ]
  },
  {
   "cell_type": "code",
   "execution_count": 14,
   "id": "dfb266da-650c-455e-b609-c23c478b9d4b",
   "metadata": {},
   "outputs": [
    {
     "data": {
      "text/html": [
       "<div>\n",
       "<style scoped>\n",
       "    .dataframe tbody tr th:only-of-type {\n",
       "        vertical-align: middle;\n",
       "    }\n",
       "\n",
       "    .dataframe tbody tr th {\n",
       "        vertical-align: top;\n",
       "    }\n",
       "\n",
       "    .dataframe thead th {\n",
       "        text-align: right;\n",
       "    }\n",
       "</style>\n",
       "<table border=\"1\" class=\"dataframe\">\n",
       "  <thead>\n",
       "    <tr style=\"text-align: right;\">\n",
       "      <th></th>\n",
       "      <th>id</th>\n",
       "      <th>item_date</th>\n",
       "      <th>quantity tons</th>\n",
       "      <th>customer</th>\n",
       "      <th>country</th>\n",
       "      <th>status</th>\n",
       "      <th>item type</th>\n",
       "      <th>application</th>\n",
       "      <th>thickness</th>\n",
       "      <th>width</th>\n",
       "      <th>material_ref</th>\n",
       "      <th>product_ref</th>\n",
       "      <th>delivery date</th>\n",
       "      <th>selling_price</th>\n",
       "    </tr>\n",
       "  </thead>\n",
       "  <tbody>\n",
       "    <tr>\n",
       "      <th>660</th>\n",
       "      <td>C935F95A-F469-4533-BBB7-0DB1356581B6</td>\n",
       "      <td>2021-03-31</td>\n",
       "      <td>85.26786769</td>\n",
       "      <td>30199280</td>\n",
       "      <td>26</td>\n",
       "      <td>Won</td>\n",
       "      <td>W</td>\n",
       "      <td>42</td>\n",
       "      <td>0.9</td>\n",
       "      <td>1378</td>\n",
       "      <td>0000000000000000000000000000000004019006</td>\n",
       "      <td>611993</td>\n",
       "      <td>2021-07-01</td>\n",
       "      <td>1054</td>\n",
       "    </tr>\n",
       "    <tr>\n",
       "      <th>661</th>\n",
       "      <td>E55B1D55-C6B4-4EB3-BE87-79D9BEFCF743</td>\n",
       "      <td>2021-03-31</td>\n",
       "      <td>47.5684912</td>\n",
       "      <td>30267349</td>\n",
       "      <td>84</td>\n",
       "      <td>Won</td>\n",
       "      <td>W</td>\n",
       "      <td>10</td>\n",
       "      <td>0.7</td>\n",
       "      <td>1500</td>\n",
       "      <td>NaN</td>\n",
       "      <td>1668701718</td>\n",
       "      <td>2021-04-01</td>\n",
       "      <td>1183.31</td>\n",
       "    </tr>\n",
       "    <tr>\n",
       "      <th>662</th>\n",
       "      <td>B73F459A-4A41-4483-B942-EBA86A33CDF5</td>\n",
       "      <td>2021-03-31</td>\n",
       "      <td>27.59159168</td>\n",
       "      <td>30329989</td>\n",
       "      <td>32</td>\n",
       "      <td>Won</td>\n",
       "      <td>Others</td>\n",
       "      <td>42</td>\n",
       "      <td>0.88</td>\n",
       "      <td>1045</td>\n",
       "      <td>188100079CMUS3ATL</td>\n",
       "      <td>164141591</td>\n",
       "      <td>2021-07-01</td>\n",
       "      <td>1060</td>\n",
       "    </tr>\n",
       "    <tr>\n",
       "      <th>663</th>\n",
       "      <td>D8BF7099-7B4A-4BB2-8B7C-5DC07F8111B4</td>\n",
       "      <td>2021-03-31</td>\n",
       "      <td>100.7131104</td>\n",
       "      <td>30166502</td>\n",
       "      <td>27</td>\n",
       "      <td>Won</td>\n",
       "      <td>W</td>\n",
       "      <td>59</td>\n",
       "      <td>0.8</td>\n",
       "      <td>1058</td>\n",
       "      <td>S350GDHDRAL1028 0.8X1058</td>\n",
       "      <td>611993</td>\n",
       "      <td>2021-07-01</td>\n",
       "      <td>1382.4</td>\n",
       "    </tr>\n",
       "    <tr>\n",
       "      <th>664</th>\n",
       "      <td>B47D48E1-0FEC-401B-9D96-5235D6E0533D</td>\n",
       "      <td>2021-03-31</td>\n",
       "      <td>16.83525156</td>\n",
       "      <td>30199280</td>\n",
       "      <td>26</td>\n",
       "      <td>Won</td>\n",
       "      <td>W</td>\n",
       "      <td>42</td>\n",
       "      <td>0.4</td>\n",
       "      <td>1004</td>\n",
       "      <td>0000000000000000000000000000000003076167</td>\n",
       "      <td>611993</td>\n",
       "      <td>2021-07-01</td>\n",
       "      <td>1291</td>\n",
       "    </tr>\n",
       "  </tbody>\n",
       "</table>\n",
       "</div>"
      ],
      "text/plain": [
       "                                       id   item_date quantity tons  customer  \\\n",
       "660  C935F95A-F469-4533-BBB7-0DB1356581B6  2021-03-31   85.26786769  30199280   \n",
       "661  E55B1D55-C6B4-4EB3-BE87-79D9BEFCF743  2021-03-31    47.5684912  30267349   \n",
       "662  B73F459A-4A41-4483-B942-EBA86A33CDF5  2021-03-31   27.59159168  30329989   \n",
       "663  D8BF7099-7B4A-4BB2-8B7C-5DC07F8111B4  2021-03-31   100.7131104  30166502   \n",
       "664  B47D48E1-0FEC-401B-9D96-5235D6E0533D  2021-03-31   16.83525156  30199280   \n",
       "\n",
       "    country status item type application thickness width  \\\n",
       "660      26    Won         W          42       0.9  1378   \n",
       "661      84    Won         W          10       0.7  1500   \n",
       "662      32    Won    Others          42      0.88  1045   \n",
       "663      27    Won         W          59       0.8  1058   \n",
       "664      26    Won         W          42       0.4  1004   \n",
       "\n",
       "                                 material_ref product_ref delivery date  \\\n",
       "660  0000000000000000000000000000000004019006      611993    2021-07-01   \n",
       "661                                       NaN  1668701718    2021-04-01   \n",
       "662                         188100079CMUS3ATL   164141591    2021-07-01   \n",
       "663                  S350GDHDRAL1028 0.8X1058      611993    2021-07-01   \n",
       "664  0000000000000000000000000000000003076167      611993    2021-07-01   \n",
       "\n",
       "    selling_price  \n",
       "660          1054  \n",
       "661       1183.31  \n",
       "662          1060  \n",
       "663        1382.4  \n",
       "664          1291  "
      ]
     },
     "execution_count": 14,
     "metadata": {},
     "output_type": "execute_result"
    }
   ],
   "source": [
    "df.head()"
   ]
  },
  {
   "cell_type": "code",
   "execution_count": 15,
   "id": "624166b3-db2b-4c24-a32d-2e92ffdcebc9",
   "metadata": {},
   "outputs": [
    {
     "data": {
      "text/plain": [
       "(149866, 14)"
      ]
     },
     "execution_count": 15,
     "metadata": {},
     "output_type": "execute_result"
    }
   ],
   "source": [
    "df.shape"
   ]
  },
  {
   "cell_type": "code",
   "execution_count": 37,
   "id": "0729a128-a891-4b68-9755-dde2776994bd",
   "metadata": {},
   "outputs": [
    {
     "data": {
      "text/plain": [
       "(149866, 14)"
      ]
     },
     "execution_count": 37,
     "metadata": {},
     "output_type": "execute_result"
    }
   ],
   "source": [
    "#df[df.material_ref.str.startswith(\"00000\")]\n",
    "#df = df.drop(df['material_ref'].isna().index)\n",
    "df.shape"
   ]
  },
  {
   "cell_type": "code",
   "execution_count": 16,
   "id": "cc533bae-2726-4eaa-97bb-7c1887c69682",
   "metadata": {},
   "outputs": [
    {
     "data": {
      "text/html": [
       "<div>\n",
       "<style scoped>\n",
       "    .dataframe tbody tr th:only-of-type {\n",
       "        vertical-align: middle;\n",
       "    }\n",
       "\n",
       "    .dataframe tbody tr th {\n",
       "        vertical-align: top;\n",
       "    }\n",
       "\n",
       "    .dataframe thead th {\n",
       "        text-align: right;\n",
       "    }\n",
       "</style>\n",
       "<table border=\"1\" class=\"dataframe\">\n",
       "  <thead>\n",
       "    <tr style=\"text-align: right;\">\n",
       "      <th></th>\n",
       "      <th>id</th>\n",
       "      <th>item_date</th>\n",
       "      <th>quantity_tons</th>\n",
       "      <th>customer</th>\n",
       "      <th>country</th>\n",
       "      <th>status</th>\n",
       "      <th>item_type</th>\n",
       "      <th>application</th>\n",
       "      <th>thickness</th>\n",
       "      <th>width</th>\n",
       "      <th>material_ref</th>\n",
       "      <th>product_ref</th>\n",
       "      <th>delivery_date</th>\n",
       "      <th>selling_price</th>\n",
       "    </tr>\n",
       "  </thead>\n",
       "  <tbody>\n",
       "    <tr>\n",
       "      <th>660</th>\n",
       "      <td>C935F95A-F469-4533-BBB7-0DB1356581B6</td>\n",
       "      <td>2021-03-31</td>\n",
       "      <td>85.26786769</td>\n",
       "      <td>30199280</td>\n",
       "      <td>26</td>\n",
       "      <td>Won</td>\n",
       "      <td>W</td>\n",
       "      <td>42</td>\n",
       "      <td>0.9</td>\n",
       "      <td>1378</td>\n",
       "      <td>0000000000000000000000000000000004019006</td>\n",
       "      <td>611993</td>\n",
       "      <td>2021-07-01</td>\n",
       "      <td>1054</td>\n",
       "    </tr>\n",
       "    <tr>\n",
       "      <th>661</th>\n",
       "      <td>E55B1D55-C6B4-4EB3-BE87-79D9BEFCF743</td>\n",
       "      <td>2021-03-31</td>\n",
       "      <td>47.5684912</td>\n",
       "      <td>30267349</td>\n",
       "      <td>84</td>\n",
       "      <td>Won</td>\n",
       "      <td>W</td>\n",
       "      <td>10</td>\n",
       "      <td>0.7</td>\n",
       "      <td>1500</td>\n",
       "      <td>NaN</td>\n",
       "      <td>1668701718</td>\n",
       "      <td>2021-04-01</td>\n",
       "      <td>1183.31</td>\n",
       "    </tr>\n",
       "    <tr>\n",
       "      <th>662</th>\n",
       "      <td>B73F459A-4A41-4483-B942-EBA86A33CDF5</td>\n",
       "      <td>2021-03-31</td>\n",
       "      <td>27.59159168</td>\n",
       "      <td>30329989</td>\n",
       "      <td>32</td>\n",
       "      <td>Won</td>\n",
       "      <td>Others</td>\n",
       "      <td>42</td>\n",
       "      <td>0.88</td>\n",
       "      <td>1045</td>\n",
       "      <td>188100079CMUS3ATL</td>\n",
       "      <td>164141591</td>\n",
       "      <td>2021-07-01</td>\n",
       "      <td>1060</td>\n",
       "    </tr>\n",
       "    <tr>\n",
       "      <th>663</th>\n",
       "      <td>D8BF7099-7B4A-4BB2-8B7C-5DC07F8111B4</td>\n",
       "      <td>2021-03-31</td>\n",
       "      <td>100.7131104</td>\n",
       "      <td>30166502</td>\n",
       "      <td>27</td>\n",
       "      <td>Won</td>\n",
       "      <td>W</td>\n",
       "      <td>59</td>\n",
       "      <td>0.8</td>\n",
       "      <td>1058</td>\n",
       "      <td>S350GDHDRAL1028 0.8X1058</td>\n",
       "      <td>611993</td>\n",
       "      <td>2021-07-01</td>\n",
       "      <td>1382.4</td>\n",
       "    </tr>\n",
       "    <tr>\n",
       "      <th>664</th>\n",
       "      <td>B47D48E1-0FEC-401B-9D96-5235D6E0533D</td>\n",
       "      <td>2021-03-31</td>\n",
       "      <td>16.83525156</td>\n",
       "      <td>30199280</td>\n",
       "      <td>26</td>\n",
       "      <td>Won</td>\n",
       "      <td>W</td>\n",
       "      <td>42</td>\n",
       "      <td>0.4</td>\n",
       "      <td>1004</td>\n",
       "      <td>0000000000000000000000000000000003076167</td>\n",
       "      <td>611993</td>\n",
       "      <td>2021-07-01</td>\n",
       "      <td>1291</td>\n",
       "    </tr>\n",
       "    <tr>\n",
       "      <th>...</th>\n",
       "      <td>...</td>\n",
       "      <td>...</td>\n",
       "      <td>...</td>\n",
       "      <td>...</td>\n",
       "      <td>...</td>\n",
       "      <td>...</td>\n",
       "      <td>...</td>\n",
       "      <td>...</td>\n",
       "      <td>...</td>\n",
       "      <td>...</td>\n",
       "      <td>...</td>\n",
       "      <td>...</td>\n",
       "      <td>...</td>\n",
       "      <td>...</td>\n",
       "    </tr>\n",
       "    <tr>\n",
       "      <th>181668</th>\n",
       "      <td>DE633116-D1DF-4846-982E-55EFC3658A76</td>\n",
       "      <td>2020-07-02</td>\n",
       "      <td>102.4824216</td>\n",
       "      <td>30200854</td>\n",
       "      <td>25</td>\n",
       "      <td>Won</td>\n",
       "      <td>W</td>\n",
       "      <td>41</td>\n",
       "      <td>0.96</td>\n",
       "      <td>1220</td>\n",
       "      <td>0000000000000000000000000000000001000777</td>\n",
       "      <td>164141591</td>\n",
       "      <td>2020-07-01</td>\n",
       "      <td>591</td>\n",
       "    </tr>\n",
       "    <tr>\n",
       "      <th>181669</th>\n",
       "      <td>A48374B1-E6DB-45F2-889A-1F9C27C099EB</td>\n",
       "      <td>2020-07-02</td>\n",
       "      <td>208.0864686</td>\n",
       "      <td>30200854</td>\n",
       "      <td>25</td>\n",
       "      <td>Won</td>\n",
       "      <td>W</td>\n",
       "      <td>41</td>\n",
       "      <td>0.95</td>\n",
       "      <td>1500</td>\n",
       "      <td>0000000000000000000000000000000001000227</td>\n",
       "      <td>164141591</td>\n",
       "      <td>2020-07-01</td>\n",
       "      <td>589</td>\n",
       "    </tr>\n",
       "    <tr>\n",
       "      <th>181670</th>\n",
       "      <td>91643238-5C7B-4237-9A5F-63AE3D35F320</td>\n",
       "      <td>2020-07-02</td>\n",
       "      <td>4.235593568</td>\n",
       "      <td>30200854</td>\n",
       "      <td>25</td>\n",
       "      <td>Won</td>\n",
       "      <td>W</td>\n",
       "      <td>41</td>\n",
       "      <td>0.71</td>\n",
       "      <td>1250</td>\n",
       "      <td>0000000000000000000000000000000001004216</td>\n",
       "      <td>164141591</td>\n",
       "      <td>2020-07-01</td>\n",
       "      <td>619</td>\n",
       "    </tr>\n",
       "    <tr>\n",
       "      <th>181671</th>\n",
       "      <td>7AFFD323-01D9-4E15-B80D-7D1B03498FC8</td>\n",
       "      <td>2020-07-02</td>\n",
       "      <td>-2000</td>\n",
       "      <td>30200854</td>\n",
       "      <td>25</td>\n",
       "      <td>Won</td>\n",
       "      <td>W</td>\n",
       "      <td>41</td>\n",
       "      <td>0.85</td>\n",
       "      <td>1250</td>\n",
       "      <td>0000000000000000000000000000000001001149</td>\n",
       "      <td>164141591</td>\n",
       "      <td>2020-07-01</td>\n",
       "      <td>601</td>\n",
       "    </tr>\n",
       "    <tr>\n",
       "      <th>181672</th>\n",
       "      <td>AD0CA853-AE3C-4B2F-9FBB-8B0B965F84BC</td>\n",
       "      <td>2020-07-02</td>\n",
       "      <td>406.6865384</td>\n",
       "      <td>30200854</td>\n",
       "      <td>25</td>\n",
       "      <td>Won</td>\n",
       "      <td>W</td>\n",
       "      <td>41</td>\n",
       "      <td>0.71</td>\n",
       "      <td>1240</td>\n",
       "      <td>0000000000000000000000000000000001005439</td>\n",
       "      <td>164141591</td>\n",
       "      <td>2020-07-01</td>\n",
       "      <td>607</td>\n",
       "    </tr>\n",
       "  </tbody>\n",
       "</table>\n",
       "<p>149866 rows × 14 columns</p>\n",
       "</div>"
      ],
      "text/plain": [
       "                                          id   item_date quantity_tons  \\\n",
       "660     C935F95A-F469-4533-BBB7-0DB1356581B6  2021-03-31   85.26786769   \n",
       "661     E55B1D55-C6B4-4EB3-BE87-79D9BEFCF743  2021-03-31    47.5684912   \n",
       "662     B73F459A-4A41-4483-B942-EBA86A33CDF5  2021-03-31   27.59159168   \n",
       "663     D8BF7099-7B4A-4BB2-8B7C-5DC07F8111B4  2021-03-31   100.7131104   \n",
       "664     B47D48E1-0FEC-401B-9D96-5235D6E0533D  2021-03-31   16.83525156   \n",
       "...                                      ...         ...           ...   \n",
       "181668  DE633116-D1DF-4846-982E-55EFC3658A76  2020-07-02   102.4824216   \n",
       "181669  A48374B1-E6DB-45F2-889A-1F9C27C099EB  2020-07-02   208.0864686   \n",
       "181670  91643238-5C7B-4237-9A5F-63AE3D35F320  2020-07-02   4.235593568   \n",
       "181671  7AFFD323-01D9-4E15-B80D-7D1B03498FC8  2020-07-02         -2000   \n",
       "181672  AD0CA853-AE3C-4B2F-9FBB-8B0B965F84BC  2020-07-02   406.6865384   \n",
       "\n",
       "        customer country status item_type application thickness width  \\\n",
       "660     30199280      26    Won         W          42       0.9  1378   \n",
       "661     30267349      84    Won         W          10       0.7  1500   \n",
       "662     30329989      32    Won    Others          42      0.88  1045   \n",
       "663     30166502      27    Won         W          59       0.8  1058   \n",
       "664     30199280      26    Won         W          42       0.4  1004   \n",
       "...          ...     ...    ...       ...         ...       ...   ...   \n",
       "181668  30200854      25    Won         W          41      0.96  1220   \n",
       "181669  30200854      25    Won         W          41      0.95  1500   \n",
       "181670  30200854      25    Won         W          41      0.71  1250   \n",
       "181671  30200854      25    Won         W          41      0.85  1250   \n",
       "181672  30200854      25    Won         W          41      0.71  1240   \n",
       "\n",
       "                                    material_ref product_ref delivery_date  \\\n",
       "660     0000000000000000000000000000000004019006      611993    2021-07-01   \n",
       "661                                          NaN  1668701718    2021-04-01   \n",
       "662                            188100079CMUS3ATL   164141591    2021-07-01   \n",
       "663                     S350GDHDRAL1028 0.8X1058      611993    2021-07-01   \n",
       "664     0000000000000000000000000000000003076167      611993    2021-07-01   \n",
       "...                                          ...         ...           ...   \n",
       "181668  0000000000000000000000000000000001000777   164141591    2020-07-01   \n",
       "181669  0000000000000000000000000000000001000227   164141591    2020-07-01   \n",
       "181670  0000000000000000000000000000000001004216   164141591    2020-07-01   \n",
       "181671  0000000000000000000000000000000001001149   164141591    2020-07-01   \n",
       "181672  0000000000000000000000000000000001005439   164141591    2020-07-01   \n",
       "\n",
       "       selling_price  \n",
       "660             1054  \n",
       "661          1183.31  \n",
       "662             1060  \n",
       "663           1382.4  \n",
       "664             1291  \n",
       "...              ...  \n",
       "181668           591  \n",
       "181669           589  \n",
       "181670           619  \n",
       "181671           601  \n",
       "181672           607  \n",
       "\n",
       "[149866 rows x 14 columns]"
      ]
     },
     "execution_count": 16,
     "metadata": {},
     "output_type": "execute_result"
    }
   ],
   "source": [
    "df.rename(columns={'quantity tons':'quantity_tons','item type':'item_type','delivery date':'delivery_date'})"
   ]
  },
  {
   "cell_type": "code",
   "execution_count": 17,
   "id": "a651dec2-453a-4a7c-881e-94aeea4d33d8",
   "metadata": {},
   "outputs": [],
   "source": [
    "df['selling_price'] = df['selling_price'].astype(float)"
   ]
  },
  {
   "cell_type": "code",
   "execution_count": 18,
   "id": "0af01414-13de-4582-8686-f30a27a149ad",
   "metadata": {},
   "outputs": [],
   "source": [
    "#encoding the data\n",
    "encoder = LabelEncoder()\n",
    "encoded = encoder.fit_transform(df['status'])\n",
    "df['new_status'] = encoded"
   ]
  },
  {
   "cell_type": "code",
   "execution_count": 19,
   "id": "33132f47-24b0-4575-a537-44e00edb5285",
   "metadata": {},
   "outputs": [],
   "source": [
    "encoded = encoder.fit_transform(df['item type'])\n",
    "df['item_type'] = encoded"
   ]
  },
  {
   "cell_type": "code",
   "execution_count": 20,
   "id": "88f93e6b-00a2-4564-b226-1f5e28fcee1b",
   "metadata": {},
   "outputs": [
    {
     "data": {
      "text/plain": [
       "<Axes: xlabel='new_status'>"
      ]
     },
     "execution_count": 20,
     "metadata": {},
     "output_type": "execute_result"
    },
    {
     "data": {
      "image/png": "[encoded data removed]",
      "text/plain": [
       "<Figure size 640x480 with 1 Axes>"
      ]
     },
     "metadata": {},
     "output_type": "display_data"
    }
   ],
   "source": [
    "df.groupby(['new_status']).size().plot(kind='bar')"
   ]
  },
  {
   "cell_type": "code",
   "execution_count": 126,
   "id": "0fcf2ae9-3f3b-411b-a834-d716bdd548d9",
   "metadata": {},
   "outputs": [
    {
     "data": {
      "text/plain": [
       "<Axes: xlabel='item_type'>"
      ]
     },
     "execution_count": 126,
     "metadata": {},
     "output_type": "execute_result"
    },
    {
     "data": {
      "image/png": "[encoded data removed]",
      "text/plain": [
       "<Figure size 640x480 with 1 Axes>"
      ]
     },
     "metadata": {},
     "output_type": "display_data"
    }
   ],
   "source": [
    "df.groupby(['item_type']).size().plot(kind='bar')"
   ]
  },
  {
   "cell_type": "code",
   "execution_count": 21,
   "id": "5834c8c3-973b-447a-98ed-b2de3aec6276",
   "metadata": {},
   "outputs": [
    {
     "data": {
      "text/plain": [
       "<Axes: xlabel='product_ref'>"
      ]
     },
     "execution_count": 21,
     "metadata": {},
     "output_type": "execute_result"
    },
    {
     "data": {
      "image/png": "[encoded data removed]",
      "text/plain": [
       "<Figure size 640x480 with 1 Axes>"
      ]
     },
     "metadata": {},
     "output_type": "display_data"
    }
   ],
   "source": [
    "df.groupby(['product_ref']).size().plot(kind='bar')"
   ]
  },
  {
   "cell_type": "code",
   "execution_count": 22,
   "id": "639387f3-256e-40dc-ac84-b139d0a7cfc2",
   "metadata": {},
   "outputs": [
    {
     "data": {
      "text/plain": [
       "<Axes: xlabel='country'>"
      ]
     },
     "execution_count": 22,
     "metadata": {},
     "output_type": "execute_result"
    },
    {
     "data": {
      "image/png": "[encoded data removed]",
      "text/plain": [
       "<Figure size 640x480 with 1 Axes>"
      ]
     },
     "metadata": {},
     "output_type": "display_data"
    }
   ],
   "source": [
    "df.groupby(['country']).size().plot(kind='bar')"
   ]
  },
  {
   "cell_type": "code",
   "execution_count": 24,
   "id": "47435ee2-6d10-48d3-bbe1-d1d71cdb425c",
   "metadata": {},
   "outputs": [
    {
     "data": {
      "text/plain": [
       "0    78\n",
       "Name: country, dtype: object"
      ]
     },
     "execution_count": 24,
     "metadata": {},
     "output_type": "execute_result"
    }
   ],
   "source": [
    "cmode = df['country'].mode()\n",
    "cmode"
   ]
  },
  {
   "cell_type": "code",
   "execution_count": 25,
   "id": "af8049d0-2d0a-476a-a583-2860ac2153ce",
   "metadata": {},
   "outputs": [],
   "source": [
    "## Removing the non numeric columns\n",
    "df = df.drop(['id'],axis=1)\n",
    "df = df.drop(['delivery date'],axis=1)\n",
    "df = df.drop(['item_date'],axis=1)\n",
    "df = df.drop(['status'],axis=1)\n",
    "df = df.drop(['item type'],axis=1)\n",
    "df = df.drop(['material_ref'],axis=1)"
   ]
  },
  {
   "cell_type": "code",
   "execution_count": 26,
   "id": "e164adc7-6633-461a-9d8f-777de4b79fa9",
   "metadata": {},
   "outputs": [
    {
     "data": {
      "text/plain": [
       "(149866, 10)"
      ]
     },
     "execution_count": 26,
     "metadata": {},
     "output_type": "execute_result"
    }
   ],
   "source": [
    "df.shape"
   ]
  },
  {
   "cell_type": "code",
   "execution_count": 27,
   "id": "1ead6225-a903-464e-9e7b-eb439b776aa5",
   "metadata": {},
   "outputs": [
    {
     "data": {
      "text/plain": [
       "quantity tons    0\n",
       "customer         1\n",
       "country          4\n",
       "application      3\n",
       "thickness        0\n",
       "width            0\n",
       "product_ref      0\n",
       "selling_price    1\n",
       "new_status       0\n",
       "item_type        0\n",
       "dtype: int64"
      ]
     },
     "execution_count": 27,
     "metadata": {},
     "output_type": "execute_result"
    }
   ],
   "source": [
    "df.isna().sum()"
   ]
  },
  {
   "cell_type": "code",
   "execution_count": 28,
   "id": "6f98f9a3-baa1-4c33-a226-e982d7b8943e",
   "metadata": {},
   "outputs": [],
   "source": [
    "df['selling_price'] = df['selling_price'].astype(float)"
   ]
  },
  {
   "cell_type": "code",
   "execution_count": 29,
   "id": "0ad1d47e-e1cc-480b-9283-0e191d727a56",
   "metadata": {},
   "outputs": [],
   "source": [
    "price_mean = df['selling_price'].mean()\n",
    "df['selling_price'] = df['selling_price'].fillna(price_mean)"
   ]
  },
  {
   "cell_type": "code",
   "execution_count": 30,
   "id": "9f77b5b8-ac1b-4dcb-8778-aca7a1751e88",
   "metadata": {},
   "outputs": [],
   "source": [
    "#droping the nan values\n",
    "#df = df.dropna(subset=['customer','country','application'])"
   ]
  },
  {
   "cell_type": "code",
   "execution_count": 31,
   "id": "4521d48f-3f89-423e-ae70-ff54e24ce51a",
   "metadata": {},
   "outputs": [
    {
     "data": {
      "text/plain": [
       "Index([   660,    661,    662,    663,    664,    665,    666,    667,    668,\n",
       "          669,\n",
       "       ...\n",
       "       181663, 181664, 181665, 181666, 181667, 181668, 181669, 181670, 181671,\n",
       "       181672],\n",
       "      dtype='int64', length=149861)"
      ]
     },
     "execution_count": 31,
     "metadata": {},
     "output_type": "execute_result"
    }
   ],
   "source": [
    "df['customer'].isna().index"
   ]
  },
  {
   "cell_type": "code",
   "execution_count": 32,
   "id": "b5018840-9db7-4655-b655-2820f44d4f20",
   "metadata": {},
   "outputs": [],
   "source": [
    "## Data type conversions"
   ]
  },
  {
   "cell_type": "code",
   "execution_count": null,
   "id": "d34e165b-6d6d-4a46-82cc-e7959ad97f41",
   "metadata": {},
   "outputs": [],
   "source": []
  },
  {
   "cell_type": "code",
   "execution_count": 33,
   "id": "1b7be1cd-3ae1-48e0-bab1-8386441c157d",
   "metadata": {},
   "outputs": [],
   "source": [
    "#df['country'] = df['country'].astype(int)\n"
   ]
  },
  {
   "cell_type": "code",
   "execution_count": 34,
   "id": "bc4a69cc-60a7-4da2-a2ff-37c4ec490df7",
   "metadata": {},
   "outputs": [],
   "source": [
    "#df['delivery date'].astype(str)\n",
    "\n",
    "#df['quantity tons'] = df['quantity tons'].astype(float)\n",
    "\n",
    "mode = df['country'].mode()"
   ]
  },
  {
   "cell_type": "code",
   "execution_count": 35,
   "id": "7ee84b96-2272-433e-97da-d9883a5b3bb1",
   "metadata": {},
   "outputs": [
    {
     "data": {
      "text/plain": [
       "0    78\n",
       "Name: country, dtype: object"
      ]
     },
     "execution_count": 35,
     "metadata": {},
     "output_type": "execute_result"
    }
   ],
   "source": [
    "mode"
   ]
  },
  {
   "cell_type": "code",
   "execution_count": 36,
   "id": "34a1b318-56a2-49e5-926b-ab75f92651ab",
   "metadata": {},
   "outputs": [],
   "source": [
    "df['country'] = df['country'].fillna(mode)"
   ]
  },
  {
   "cell_type": "code",
   "execution_count": 38,
   "id": "e0bc2425-449d-43bb-b0bf-eea1f9c4ccd9",
   "metadata": {},
   "outputs": [],
   "source": [
    "df.head()\n",
    "df1 = df"
   ]
  },
  {
   "cell_type": "code",
   "execution_count": 39,
   "id": "a05fa1ec-55a7-4e2f-992e-a65bfb556e61",
   "metadata": {},
   "outputs": [
    {
     "name": "stdout",
     "output_type": "stream",
     "text": [
      "<class 'pandas.core.frame.DataFrame'>\n",
      "Index: 149861 entries, 660 to 181672\n",
      "Data columns (total 10 columns):\n",
      " #   Column         Non-Null Count   Dtype  \n",
      "---  ------         --------------   -----  \n",
      " 0   quantity tons  149861 non-null  object \n",
      " 1   customer       149861 non-null  object \n",
      " 2   country        149861 non-null  object \n",
      " 3   application    149861 non-null  object \n",
      " 4   thickness      149861 non-null  object \n",
      " 5   width          149861 non-null  object \n",
      " 6   product_ref    149861 non-null  object \n",
      " 7   selling_price  149861 non-null  float64\n",
      " 8   new_status     149861 non-null  int32  \n",
      " 9   item_type      149861 non-null  int32  \n",
      "dtypes: float64(1), int32(2), object(7)\n",
      "memory usage: 11.4+ MB\n"
     ]
    }
   ],
   "source": [
    "df1.info()"
   ]
  },
  {
   "cell_type": "code",
   "execution_count": 40,
   "id": "b6f5c579-6b53-4b51-a605-c7ea4cbb223b",
   "metadata": {},
   "outputs": [],
   "source": [
    "df1['customer'] = df1['customer'].astype('category')\n",
    "df1['country'] = df1['country'].astype('category')\n",
    "df1['application'] = df1['application'].astype('category')\n",
    "df1['thickness'] = df1['thickness'].astype('category')\n",
    "df1['width'] = df1['width'].astype('category')\n",
    "df1['quantity tons'] = df1['quantity tons'].astype('category')\n",
    "df1['product_ref'] = df1['product_ref'].astype('category')"
   ]
  },
  {
   "cell_type": "code",
   "execution_count": 41,
   "id": "a835ae5a-fbee-4021-b565-d9b83811b596",
   "metadata": {},
   "outputs": [
    {
     "data": {
      "text/html": [
       "<div>\n",
       "<style scoped>\n",
       "    .dataframe tbody tr th:only-of-type {\n",
       "        vertical-align: middle;\n",
       "    }\n",
       "\n",
       "    .dataframe tbody tr th {\n",
       "        vertical-align: top;\n",
       "    }\n",
       "\n",
       "    .dataframe thead th {\n",
       "        text-align: right;\n",
       "    }\n",
       "</style>\n",
       "<table border=\"1\" class=\"dataframe\">\n",
       "  <thead>\n",
       "    <tr style=\"text-align: right;\">\n",
       "      <th></th>\n",
       "      <th>quantity tons</th>\n",
       "      <th>customer</th>\n",
       "      <th>country</th>\n",
       "      <th>application</th>\n",
       "      <th>thickness</th>\n",
       "      <th>width</th>\n",
       "      <th>product_ref</th>\n",
       "      <th>selling_price</th>\n",
       "      <th>new_status</th>\n",
       "      <th>item_type</th>\n",
       "    </tr>\n",
       "  </thead>\n",
       "  <tbody>\n",
       "    <tr>\n",
       "      <th>660</th>\n",
       "      <td>85.26786769</td>\n",
       "      <td>30199280</td>\n",
       "      <td>26</td>\n",
       "      <td>42</td>\n",
       "      <td>0.9</td>\n",
       "      <td>1378</td>\n",
       "      <td>611993</td>\n",
       "      <td>1054.00</td>\n",
       "      <td>1</td>\n",
       "      <td>5</td>\n",
       "    </tr>\n",
       "    <tr>\n",
       "      <th>661</th>\n",
       "      <td>47.5684912</td>\n",
       "      <td>30267349</td>\n",
       "      <td>84</td>\n",
       "      <td>10</td>\n",
       "      <td>0.7</td>\n",
       "      <td>1500</td>\n",
       "      <td>1668701718</td>\n",
       "      <td>1183.31</td>\n",
       "      <td>1</td>\n",
       "      <td>5</td>\n",
       "    </tr>\n",
       "    <tr>\n",
       "      <th>662</th>\n",
       "      <td>27.59159168</td>\n",
       "      <td>30329989</td>\n",
       "      <td>32</td>\n",
       "      <td>42</td>\n",
       "      <td>0.88</td>\n",
       "      <td>1045</td>\n",
       "      <td>164141591</td>\n",
       "      <td>1060.00</td>\n",
       "      <td>1</td>\n",
       "      <td>1</td>\n",
       "    </tr>\n",
       "    <tr>\n",
       "      <th>663</th>\n",
       "      <td>100.7131104</td>\n",
       "      <td>30166502</td>\n",
       "      <td>27</td>\n",
       "      <td>59</td>\n",
       "      <td>0.8</td>\n",
       "      <td>1058</td>\n",
       "      <td>611993</td>\n",
       "      <td>1382.40</td>\n",
       "      <td>1</td>\n",
       "      <td>5</td>\n",
       "    </tr>\n",
       "    <tr>\n",
       "      <th>664</th>\n",
       "      <td>16.83525156</td>\n",
       "      <td>30199280</td>\n",
       "      <td>26</td>\n",
       "      <td>42</td>\n",
       "      <td>0.4</td>\n",
       "      <td>1004</td>\n",
       "      <td>611993</td>\n",
       "      <td>1291.00</td>\n",
       "      <td>1</td>\n",
       "      <td>5</td>\n",
       "    </tr>\n",
       "  </tbody>\n",
       "</table>\n",
       "</div>"
      ],
      "text/plain": [
       "    quantity tons  customer country application thickness width product_ref  \\\n",
       "660   85.26786769  30199280      26          42       0.9  1378      611993   \n",
       "661    47.5684912  30267349      84          10       0.7  1500  1668701718   \n",
       "662   27.59159168  30329989      32          42      0.88  1045   164141591   \n",
       "663   100.7131104  30166502      27          59       0.8  1058      611993   \n",
       "664   16.83525156  30199280      26          42       0.4  1004      611993   \n",
       "\n",
       "     selling_price  new_status  item_type  \n",
       "660        1054.00           1          5  \n",
       "661        1183.31           1          5  \n",
       "662        1060.00           1          1  \n",
       "663        1382.40           1          5  \n",
       "664        1291.00           1          5  "
      ]
     },
     "execution_count": 41,
     "metadata": {},
     "output_type": "execute_result"
    }
   ],
   "source": [
    "df1.head()"
   ]
  },
  {
   "cell_type": "code",
   "execution_count": 42,
   "id": "d4d8d73c-8756-4d23-98ae-dd4762db3b79",
   "metadata": {},
   "outputs": [
    {
     "ename": "ValueError",
     "evalue": "Cannot cast object dtype to float64",
     "output_type": "error",
     "traceback": [
      "\u001b[1;31m---------------------------------------------------------------------------\u001b[0m",
      "\u001b[1;31mValueError\u001b[0m                                Traceback (most recent call last)",
      "File \u001b[1;32mC:\\Python311\\Lib\\site-packages\\pandas\\core\\arrays\\categorical.py:533\u001b[0m, in \u001b[0;36mCategorical.astype\u001b[1;34m(self, dtype, copy)\u001b[0m\n\u001b[0;32m    532\u001b[0m \u001b[38;5;28;01mtry\u001b[39;00m:\n\u001b[1;32m--> 533\u001b[0m     new_cats \u001b[38;5;241m=\u001b[39m \u001b[43mnew_cats\u001b[49m\u001b[38;5;241;43m.\u001b[39;49m\u001b[43mastype\u001b[49m\u001b[43m(\u001b[49m\u001b[43mdtype\u001b[49m\u001b[38;5;241;43m=\u001b[39;49m\u001b[43mdtype\u001b[49m\u001b[43m,\u001b[49m\u001b[43m \u001b[49m\u001b[43mcopy\u001b[49m\u001b[38;5;241;43m=\u001b[39;49m\u001b[43mcopy\u001b[49m\u001b[43m)\u001b[49m\n\u001b[0;32m    534\u001b[0m     fill_value \u001b[38;5;241m=\u001b[39m \u001b[38;5;28mself\u001b[39m\u001b[38;5;241m.\u001b[39mcategories\u001b[38;5;241m.\u001b[39m_na_value\n",
      "\u001b[1;31mValueError\u001b[0m: could not convert string to float: 'e'",
      "\nDuring handling of the above exception, another exception occurred:\n",
      "\u001b[1;31mValueError\u001b[0m                                Traceback (most recent call last)",
      "Cell \u001b[1;32mIn[42], line 1\u001b[0m\n\u001b[1;32m----> 1\u001b[0m df1[\u001b[38;5;124m'\u001b[39m\u001b[38;5;124mquantity tons\u001b[39m\u001b[38;5;124m'\u001b[39m] \u001b[38;5;241m=\u001b[39m \u001b[43mdf1\u001b[49m\u001b[43m[\u001b[49m\u001b[38;5;124;43m'\u001b[39;49m\u001b[38;5;124;43mquantity tons\u001b[39;49m\u001b[38;5;124;43m'\u001b[39;49m\u001b[43m]\u001b[49m\u001b[38;5;241;43m.\u001b[39;49m\u001b[43mastype\u001b[49m\u001b[43m(\u001b[49m\u001b[38;5;28;43mfloat\u001b[39;49m\u001b[43m)\u001b[49m\n\u001b[0;32m      3\u001b[0m df1[\u001b[38;5;124m'\u001b[39m\u001b[38;5;124mcustomer\u001b[39m\u001b[38;5;124m'\u001b[39m] \u001b[38;5;241m=\u001b[39m df1[\u001b[38;5;124m'\u001b[39m\u001b[38;5;124mcustomer\u001b[39m\u001b[38;5;124m'\u001b[39m]\u001b[38;5;241m.\u001b[39mastype(\u001b[38;5;28mfloat\u001b[39m)\n\u001b[0;32m      4\u001b[0m df1[\u001b[38;5;124m'\u001b[39m\u001b[38;5;124mcountry\u001b[39m\u001b[38;5;124m'\u001b[39m] \u001b[38;5;241m=\u001b[39m df1[\u001b[38;5;124m'\u001b[39m\u001b[38;5;124mcountry\u001b[39m\u001b[38;5;124m'\u001b[39m]\u001b[38;5;241m.\u001b[39mastype(\u001b[38;5;28mfloat\u001b[39m)\n",
      "File \u001b[1;32mC:\\Python311\\Lib\\site-packages\\pandas\\core\\generic.py:6324\u001b[0m, in \u001b[0;36mNDFrame.astype\u001b[1;34m(self, dtype, copy, errors)\u001b[0m\n\u001b[0;32m   6317\u001b[0m     results \u001b[38;5;241m=\u001b[39m [\n\u001b[0;32m   6318\u001b[0m         \u001b[38;5;28mself\u001b[39m\u001b[38;5;241m.\u001b[39miloc[:, i]\u001b[38;5;241m.\u001b[39mastype(dtype, copy\u001b[38;5;241m=\u001b[39mcopy)\n\u001b[0;32m   6319\u001b[0m         \u001b[38;5;28;01mfor\u001b[39;00m i \u001b[38;5;129;01min\u001b[39;00m \u001b[38;5;28mrange\u001b[39m(\u001b[38;5;28mlen\u001b[39m(\u001b[38;5;28mself\u001b[39m\u001b[38;5;241m.\u001b[39mcolumns))\n\u001b[0;32m   6320\u001b[0m     ]\n\u001b[0;32m   6322\u001b[0m \u001b[38;5;28;01melse\u001b[39;00m:\n\u001b[0;32m   6323\u001b[0m     \u001b[38;5;66;03m# else, only a single dtype is given\u001b[39;00m\n\u001b[1;32m-> 6324\u001b[0m     new_data \u001b[38;5;241m=\u001b[39m \u001b[38;5;28;43mself\u001b[39;49m\u001b[38;5;241;43m.\u001b[39;49m\u001b[43m_mgr\u001b[49m\u001b[38;5;241;43m.\u001b[39;49m\u001b[43mastype\u001b[49m\u001b[43m(\u001b[49m\u001b[43mdtype\u001b[49m\u001b[38;5;241;43m=\u001b[39;49m\u001b[43mdtype\u001b[49m\u001b[43m,\u001b[49m\u001b[43m \u001b[49m\u001b[43mcopy\u001b[49m\u001b[38;5;241;43m=\u001b[39;49m\u001b[43mcopy\u001b[49m\u001b[43m,\u001b[49m\u001b[43m \u001b[49m\u001b[43merrors\u001b[49m\u001b[38;5;241;43m=\u001b[39;49m\u001b[43merrors\u001b[49m\u001b[43m)\u001b[49m\n\u001b[0;32m   6325\u001b[0m     \u001b[38;5;28;01mreturn\u001b[39;00m \u001b[38;5;28mself\u001b[39m\u001b[38;5;241m.\u001b[39m_constructor(new_data)\u001b[38;5;241m.\u001b[39m__finalize__(\u001b[38;5;28mself\u001b[39m, method\u001b[38;5;241m=\u001b[39m\u001b[38;5;124m\"\u001b[39m\u001b[38;5;124mastype\u001b[39m\u001b[38;5;124m\"\u001b[39m)\n\u001b[0;32m   6327\u001b[0m \u001b[38;5;66;03m# GH 33113: handle empty frame or series\u001b[39;00m\n",
      "File \u001b[1;32mC:\\Python311\\Lib\\site-packages\\pandas\\core\\internals\\managers.py:451\u001b[0m, in \u001b[0;36mBaseBlockManager.astype\u001b[1;34m(self, dtype, copy, errors)\u001b[0m\n\u001b[0;32m    448\u001b[0m \u001b[38;5;28;01melif\u001b[39;00m using_copy_on_write():\n\u001b[0;32m    449\u001b[0m     copy \u001b[38;5;241m=\u001b[39m \u001b[38;5;28;01mFalse\u001b[39;00m\n\u001b[1;32m--> 451\u001b[0m \u001b[38;5;28;01mreturn\u001b[39;00m \u001b[38;5;28;43mself\u001b[39;49m\u001b[38;5;241;43m.\u001b[39;49m\u001b[43mapply\u001b[49m\u001b[43m(\u001b[49m\n\u001b[0;32m    452\u001b[0m \u001b[43m    \u001b[49m\u001b[38;5;124;43m\"\u001b[39;49m\u001b[38;5;124;43mastype\u001b[39;49m\u001b[38;5;124;43m\"\u001b[39;49m\u001b[43m,\u001b[49m\n\u001b[0;32m    453\u001b[0m \u001b[43m    \u001b[49m\u001b[43mdtype\u001b[49m\u001b[38;5;241;43m=\u001b[39;49m\u001b[43mdtype\u001b[49m\u001b[43m,\u001b[49m\n\u001b[0;32m    454\u001b[0m \u001b[43m    \u001b[49m\u001b[43mcopy\u001b[49m\u001b[38;5;241;43m=\u001b[39;49m\u001b[43mcopy\u001b[49m\u001b[43m,\u001b[49m\n\u001b[0;32m    455\u001b[0m \u001b[43m    \u001b[49m\u001b[43merrors\u001b[49m\u001b[38;5;241;43m=\u001b[39;49m\u001b[43merrors\u001b[49m\u001b[43m,\u001b[49m\n\u001b[0;32m    456\u001b[0m \u001b[43m    \u001b[49m\u001b[43musing_cow\u001b[49m\u001b[38;5;241;43m=\u001b[39;49m\u001b[43musing_copy_on_write\u001b[49m\u001b[43m(\u001b[49m\u001b[43m)\u001b[49m\u001b[43m,\u001b[49m\n\u001b[0;32m    457\u001b[0m \u001b[43m\u001b[49m\u001b[43m)\u001b[49m\n",
      "File \u001b[1;32mC:\\Python311\\Lib\\site-packages\\pandas\\core\\internals\\managers.py:352\u001b[0m, in \u001b[0;36mBaseBlockManager.apply\u001b[1;34m(self, f, align_keys, **kwargs)\u001b[0m\n\u001b[0;32m    350\u001b[0m         applied \u001b[38;5;241m=\u001b[39m b\u001b[38;5;241m.\u001b[39mapply(f, \u001b[38;5;241m*\u001b[39m\u001b[38;5;241m*\u001b[39mkwargs)\n\u001b[0;32m    351\u001b[0m     \u001b[38;5;28;01melse\u001b[39;00m:\n\u001b[1;32m--> 352\u001b[0m         applied \u001b[38;5;241m=\u001b[39m \u001b[38;5;28;43mgetattr\u001b[39;49m\u001b[43m(\u001b[49m\u001b[43mb\u001b[49m\u001b[43m,\u001b[49m\u001b[43m \u001b[49m\u001b[43mf\u001b[49m\u001b[43m)\u001b[49m\u001b[43m(\u001b[49m\u001b[38;5;241;43m*\u001b[39;49m\u001b[38;5;241;43m*\u001b[39;49m\u001b[43mkwargs\u001b[49m\u001b[43m)\u001b[49m\n\u001b[0;32m    353\u001b[0m     result_blocks \u001b[38;5;241m=\u001b[39m extend_blocks(applied, result_blocks)\n\u001b[0;32m    355\u001b[0m out \u001b[38;5;241m=\u001b[39m \u001b[38;5;28mtype\u001b[39m(\u001b[38;5;28mself\u001b[39m)\u001b[38;5;241m.\u001b[39mfrom_blocks(result_blocks, \u001b[38;5;28mself\u001b[39m\u001b[38;5;241m.\u001b[39maxes)\n",
      "File \u001b[1;32mC:\\Python311\\Lib\\site-packages\\pandas\\core\\internals\\blocks.py:511\u001b[0m, in \u001b[0;36mBlock.astype\u001b[1;34m(self, dtype, copy, errors, using_cow)\u001b[0m\n\u001b[0;32m    491\u001b[0m \u001b[38;5;250m\u001b[39m\u001b[38;5;124;03m\"\"\"\u001b[39;00m\n\u001b[0;32m    492\u001b[0m \u001b[38;5;124;03mCoerce to the new dtype.\u001b[39;00m\n\u001b[0;32m    493\u001b[0m \n\u001b[1;32m   (...)\u001b[0m\n\u001b[0;32m    507\u001b[0m \u001b[38;5;124;03mBlock\u001b[39;00m\n\u001b[0;32m    508\u001b[0m \u001b[38;5;124;03m\"\"\"\u001b[39;00m\n\u001b[0;32m    509\u001b[0m values \u001b[38;5;241m=\u001b[39m \u001b[38;5;28mself\u001b[39m\u001b[38;5;241m.\u001b[39mvalues\n\u001b[1;32m--> 511\u001b[0m new_values \u001b[38;5;241m=\u001b[39m \u001b[43mastype_array_safe\u001b[49m\u001b[43m(\u001b[49m\u001b[43mvalues\u001b[49m\u001b[43m,\u001b[49m\u001b[43m \u001b[49m\u001b[43mdtype\u001b[49m\u001b[43m,\u001b[49m\u001b[43m \u001b[49m\u001b[43mcopy\u001b[49m\u001b[38;5;241;43m=\u001b[39;49m\u001b[43mcopy\u001b[49m\u001b[43m,\u001b[49m\u001b[43m \u001b[49m\u001b[43merrors\u001b[49m\u001b[38;5;241;43m=\u001b[39;49m\u001b[43merrors\u001b[49m\u001b[43m)\u001b[49m\n\u001b[0;32m    513\u001b[0m new_values \u001b[38;5;241m=\u001b[39m maybe_coerce_values(new_values)\n\u001b[0;32m    515\u001b[0m refs \u001b[38;5;241m=\u001b[39m \u001b[38;5;28;01mNone\u001b[39;00m\n",
      "File \u001b[1;32mC:\\Python311\\Lib\\site-packages\\pandas\\core\\dtypes\\astype.py:242\u001b[0m, in \u001b[0;36mastype_array_safe\u001b[1;34m(values, dtype, copy, errors)\u001b[0m\n\u001b[0;32m    239\u001b[0m     dtype \u001b[38;5;241m=\u001b[39m dtype\u001b[38;5;241m.\u001b[39mnumpy_dtype\n\u001b[0;32m    241\u001b[0m \u001b[38;5;28;01mtry\u001b[39;00m:\n\u001b[1;32m--> 242\u001b[0m     new_values \u001b[38;5;241m=\u001b[39m \u001b[43mastype_array\u001b[49m\u001b[43m(\u001b[49m\u001b[43mvalues\u001b[49m\u001b[43m,\u001b[49m\u001b[43m \u001b[49m\u001b[43mdtype\u001b[49m\u001b[43m,\u001b[49m\u001b[43m \u001b[49m\u001b[43mcopy\u001b[49m\u001b[38;5;241;43m=\u001b[39;49m\u001b[43mcopy\u001b[49m\u001b[43m)\u001b[49m\n\u001b[0;32m    243\u001b[0m \u001b[38;5;28;01mexcept\u001b[39;00m (\u001b[38;5;167;01mValueError\u001b[39;00m, \u001b[38;5;167;01mTypeError\u001b[39;00m):\n\u001b[0;32m    244\u001b[0m     \u001b[38;5;66;03m# e.g. _astype_nansafe can fail on object-dtype of strings\u001b[39;00m\n\u001b[0;32m    245\u001b[0m     \u001b[38;5;66;03m#  trying to convert to float\u001b[39;00m\n\u001b[0;32m    246\u001b[0m     \u001b[38;5;28;01mif\u001b[39;00m errors \u001b[38;5;241m==\u001b[39m \u001b[38;5;124m\"\u001b[39m\u001b[38;5;124mignore\u001b[39m\u001b[38;5;124m\"\u001b[39m:\n",
      "File \u001b[1;32mC:\\Python311\\Lib\\site-packages\\pandas\\core\\dtypes\\astype.py:184\u001b[0m, in \u001b[0;36mastype_array\u001b[1;34m(values, dtype, copy)\u001b[0m\n\u001b[0;32m    180\u001b[0m     \u001b[38;5;28;01mreturn\u001b[39;00m values\n\u001b[0;32m    182\u001b[0m \u001b[38;5;28;01mif\u001b[39;00m \u001b[38;5;129;01mnot\u001b[39;00m \u001b[38;5;28misinstance\u001b[39m(values, np\u001b[38;5;241m.\u001b[39mndarray):\n\u001b[0;32m    183\u001b[0m     \u001b[38;5;66;03m# i.e. ExtensionArray\u001b[39;00m\n\u001b[1;32m--> 184\u001b[0m     values \u001b[38;5;241m=\u001b[39m \u001b[43mvalues\u001b[49m\u001b[38;5;241;43m.\u001b[39;49m\u001b[43mastype\u001b[49m\u001b[43m(\u001b[49m\u001b[43mdtype\u001b[49m\u001b[43m,\u001b[49m\u001b[43m \u001b[49m\u001b[43mcopy\u001b[49m\u001b[38;5;241;43m=\u001b[39;49m\u001b[43mcopy\u001b[49m\u001b[43m)\u001b[49m\n\u001b[0;32m    186\u001b[0m \u001b[38;5;28;01melse\u001b[39;00m:\n\u001b[0;32m    187\u001b[0m     values \u001b[38;5;241m=\u001b[39m _astype_nansafe(values, dtype, copy\u001b[38;5;241m=\u001b[39mcopy)\n",
      "File \u001b[1;32mC:\\Python311\\Lib\\site-packages\\pandas\\core\\arrays\\categorical.py:544\u001b[0m, in \u001b[0;36mCategorical.astype\u001b[1;34m(self, dtype, copy)\u001b[0m\n\u001b[0;32m    539\u001b[0m     \u001b[38;5;28;01mexcept\u001b[39;00m (\n\u001b[0;32m    540\u001b[0m         \u001b[38;5;167;01mTypeError\u001b[39;00m,  \u001b[38;5;66;03m# downstream error msg for CategoricalIndex is misleading\u001b[39;00m\n\u001b[0;32m    541\u001b[0m         \u001b[38;5;167;01mValueError\u001b[39;00m,\n\u001b[0;32m    542\u001b[0m     ):\n\u001b[0;32m    543\u001b[0m         msg \u001b[38;5;241m=\u001b[39m \u001b[38;5;124mf\u001b[39m\u001b[38;5;124m\"\u001b[39m\u001b[38;5;124mCannot cast \u001b[39m\u001b[38;5;132;01m{\u001b[39;00m\u001b[38;5;28mself\u001b[39m\u001b[38;5;241m.\u001b[39mcategories\u001b[38;5;241m.\u001b[39mdtype\u001b[38;5;132;01m}\u001b[39;00m\u001b[38;5;124m dtype to \u001b[39m\u001b[38;5;132;01m{\u001b[39;00mdtype\u001b[38;5;132;01m}\u001b[39;00m\u001b[38;5;124m\"\u001b[39m\n\u001b[1;32m--> 544\u001b[0m         \u001b[38;5;28;01mraise\u001b[39;00m \u001b[38;5;167;01mValueError\u001b[39;00m(msg)\n\u001b[0;32m    546\u001b[0m     result \u001b[38;5;241m=\u001b[39m take_nd(\n\u001b[0;32m    547\u001b[0m         new_cats, ensure_platform_int(\u001b[38;5;28mself\u001b[39m\u001b[38;5;241m.\u001b[39m_codes), fill_value\u001b[38;5;241m=\u001b[39mfill_value\n\u001b[0;32m    548\u001b[0m     )\n\u001b[0;32m    550\u001b[0m \u001b[38;5;28;01mreturn\u001b[39;00m result\n",
      "\u001b[1;31mValueError\u001b[0m: Cannot cast object dtype to float64"
     ]
    }
   ],
   "source": [
    "df1['quantity tons'] = df1['quantity tons'].astype(float)\n",
    "\n",
    "df1['customer'] = df1['customer'].astype(float)\n",
    "df1['country'] = df1['country'].astype(float)\n",
    "df1['application'] = df1['application'].astype(float)\n",
    "df1['thickness'] = df1['thickness'].astype(float)\n",
    "df1['width'] = df1['width'].astype(float)\n",
    "df1['quantity tons'] = df1['quantity tons'].astype(float)\n",
    "df1['product_ref'] = df1['product_ref'].astype(float)"
   ]
  },
  {
   "cell_type": "code",
   "execution_count": 180,
   "id": "0a310993-a9a6-49f9-91b1-4dbc827b57bd",
   "metadata": {},
   "outputs": [
    {
     "data": {
      "text/plain": [
       "<Axes: >"
      ]
     },
     "execution_count": 180,
     "metadata": {},
     "output_type": "execute_result"
    },
    {
     "data": {
      "image/png": "[encoded data removed]",
      "text/plain": [
       "<Figure size 640x480 with 2 Axes>"
      ]
     },
     "metadata": {},
     "output_type": "display_data"
    }
   ],
   "source": [
    "corr = df1.select_dtypes('number').corr()\n",
    "sb.heatmap(corr,annot=True)"
   ]
  },
  {
   "cell_type": "code",
   "execution_count": 43,
   "id": "f10a95fc-5257-48ad-a700-6ddd1c18d9b0",
   "metadata": {},
   "outputs": [
    {
     "data": {
      "text/plain": [
       "<Axes: xlabel='selling_price', ylabel='Count'>"
      ]
     },
     "execution_count": 43,
     "metadata": {},
     "output_type": "execute_result"
    },
    {
     "data": {
      "image/png": "[encoded data removed]",
      "text/plain": [
       "<Figure size 640x480 with 1 Axes>"
      ]
     },
     "metadata": {},
     "output_type": "display_data"
    }
   ],
   "source": [
    "sb.histplot(df1,x='selling_price',kde=True)"
   ]
  },
  {
   "cell_type": "code",
   "execution_count": 44,
   "id": "037d248a-dd36-45be-8a08-304b9d063900",
   "metadata": {},
   "outputs": [
    {
     "data": {
      "text/plain": [
       "<Axes: xlabel='thickness', ylabel='Count'>"
      ]
     },
     "execution_count": 44,
     "metadata": {},
     "output_type": "execute_result"
    },
    {
     "data": {
      "image/png": "[encoded data removed]",
      "text/plain": [
       "<Figure size 640x480 with 1 Axes>"
      ]
     },
     "metadata": {},
     "output_type": "display_data"
    }
   ],
   "source": [
    "sb.histplot(df1,x='thickness',kde=True)"
   ]
  },
  {
   "cell_type": "code",
   "execution_count": 45,
   "id": "81021c41-88ec-4e9b-adbc-4e661bb0982f",
   "metadata": {},
   "outputs": [
    {
     "data": {
      "text/plain": [
       "<Axes: xlabel='application', ylabel='Count'>"
      ]
     },
     "execution_count": 45,
     "metadata": {},
     "output_type": "execute_result"
    },
    {
     "data": {
      "image/png": "[encoded data removed]",
      "text/plain": [
       "<Figure size 640x480 with 1 Axes>"
      ]
     },
     "metadata": {},
     "output_type": "display_data"
    }
   ],
   "source": [
    "sb.histplot(df1,x='application',kde=True)"
   ]
  },
  {
   "cell_type": "code",
   "execution_count": 46,
   "id": "3c79ae10-105d-4760-8398-fde19c8596fa",
   "metadata": {},
   "outputs": [
    {
     "data": {
      "text/plain": [
       "<Axes: xlabel='customer', ylabel='Count'>"
      ]
     },
     "execution_count": 46,
     "metadata": {},
     "output_type": "execute_result"
    },
    {
     "data": {
      "image/png": "[encoded data removed]",
      "text/plain": [
       "<Figure size 640x480 with 1 Axes>"
      ]
     },
     "metadata": {},
     "output_type": "display_data"
    }
   ],
   "source": [
    "sb.histplot(df1,x='customer',kde=True)"
   ]
  },
  {
   "cell_type": "code",
   "execution_count": 47,
   "id": "9ece1712-eff5-4d76-872e-d1d3d5889083",
   "metadata": {},
   "outputs": [
    {
     "ename": "TypeError",
     "evalue": "'Categorical' with dtype category does not support reduction 'skew'",
     "output_type": "error",
     "traceback": [
      "\u001b[1;31m---------------------------------------------------------------------------\u001b[0m",
      "\u001b[1;31mTypeError\u001b[0m                                 Traceback (most recent call last)",
      "Cell \u001b[1;32mIn[47], line 1\u001b[0m\n\u001b[1;32m----> 1\u001b[0m \u001b[43mdf1\u001b[49m\u001b[38;5;241;43m.\u001b[39;49m\u001b[43mskew\u001b[49m\u001b[43m(\u001b[49m\u001b[43maxis\u001b[49m\u001b[38;5;241;43m=\u001b[39;49m\u001b[38;5;241;43m0\u001b[39;49m\u001b[43m)\u001b[49m\n",
      "File \u001b[1;32mC:\\Python311\\Lib\\site-packages\\pandas\\core\\generic.py:11577\u001b[0m, in \u001b[0;36mNDFrame._add_numeric_operations.<locals>.skew\u001b[1;34m(self, axis, skipna, numeric_only, **kwargs)\u001b[0m\n\u001b[0;32m  11560\u001b[0m \u001b[38;5;129m@doc\u001b[39m(\n\u001b[0;32m  11561\u001b[0m     _num_doc,\n\u001b[0;32m  11562\u001b[0m     desc\u001b[38;5;241m=\u001b[39m\u001b[38;5;124m\"\u001b[39m\u001b[38;5;124mReturn unbiased skew over requested axis.\u001b[39m\u001b[38;5;130;01m\\n\u001b[39;00m\u001b[38;5;130;01m\\n\u001b[39;00m\u001b[38;5;124mNormalized by N-1.\u001b[39m\u001b[38;5;124m\"\u001b[39m,\n\u001b[1;32m   (...)\u001b[0m\n\u001b[0;32m  11575\u001b[0m     \u001b[38;5;241m*\u001b[39m\u001b[38;5;241m*\u001b[39mkwargs,\n\u001b[0;32m  11576\u001b[0m ):\n\u001b[1;32m> 11577\u001b[0m     \u001b[38;5;28;01mreturn\u001b[39;00m \u001b[43mNDFrame\u001b[49m\u001b[38;5;241;43m.\u001b[39;49m\u001b[43mskew\u001b[49m\u001b[43m(\u001b[49m\u001b[38;5;28;43mself\u001b[39;49m\u001b[43m,\u001b[49m\u001b[43m \u001b[49m\u001b[43maxis\u001b[49m\u001b[43m,\u001b[49m\u001b[43m \u001b[49m\u001b[43mskipna\u001b[49m\u001b[43m,\u001b[49m\u001b[43m \u001b[49m\u001b[43mnumeric_only\u001b[49m\u001b[43m,\u001b[49m\u001b[43m \u001b[49m\u001b[38;5;241;43m*\u001b[39;49m\u001b[38;5;241;43m*\u001b[39;49m\u001b[43mkwargs\u001b[49m\u001b[43m)\u001b[49m\n",
      "File \u001b[1;32mC:\\Python311\\Lib\\site-packages\\pandas\\core\\generic.py:11223\u001b[0m, in \u001b[0;36mNDFrame.skew\u001b[1;34m(self, axis, skipna, numeric_only, **kwargs)\u001b[0m\n\u001b[0;32m  11216\u001b[0m \u001b[38;5;28;01mdef\u001b[39;00m \u001b[38;5;21mskew\u001b[39m(\n\u001b[0;32m  11217\u001b[0m     \u001b[38;5;28mself\u001b[39m,\n\u001b[0;32m  11218\u001b[0m     axis: Axis \u001b[38;5;241m|\u001b[39m \u001b[38;5;28;01mNone\u001b[39;00m \u001b[38;5;241m=\u001b[39m \u001b[38;5;241m0\u001b[39m,\n\u001b[1;32m   (...)\u001b[0m\n\u001b[0;32m  11221\u001b[0m     \u001b[38;5;241m*\u001b[39m\u001b[38;5;241m*\u001b[39mkwargs,\n\u001b[0;32m  11222\u001b[0m ) \u001b[38;5;241m-\u001b[39m\u001b[38;5;241m>\u001b[39m Series \u001b[38;5;241m|\u001b[39m \u001b[38;5;28mfloat\u001b[39m:\n\u001b[1;32m> 11223\u001b[0m     \u001b[38;5;28;01mreturn\u001b[39;00m \u001b[38;5;28;43mself\u001b[39;49m\u001b[38;5;241;43m.\u001b[39;49m\u001b[43m_stat_function\u001b[49m\u001b[43m(\u001b[49m\n\u001b[0;32m  11224\u001b[0m \u001b[43m        \u001b[49m\u001b[38;5;124;43m\"\u001b[39;49m\u001b[38;5;124;43mskew\u001b[39;49m\u001b[38;5;124;43m\"\u001b[39;49m\u001b[43m,\u001b[49m\u001b[43m \u001b[49m\u001b[43mnanops\u001b[49m\u001b[38;5;241;43m.\u001b[39;49m\u001b[43mnanskew\u001b[49m\u001b[43m,\u001b[49m\u001b[43m \u001b[49m\u001b[43maxis\u001b[49m\u001b[43m,\u001b[49m\u001b[43m \u001b[49m\u001b[43mskipna\u001b[49m\u001b[43m,\u001b[49m\u001b[43m \u001b[49m\u001b[43mnumeric_only\u001b[49m\u001b[43m,\u001b[49m\u001b[43m \u001b[49m\u001b[38;5;241;43m*\u001b[39;49m\u001b[38;5;241;43m*\u001b[39;49m\u001b[43mkwargs\u001b[49m\n\u001b[0;32m  11225\u001b[0m \u001b[43m    \u001b[49m\u001b[43m)\u001b[49m\n",
      "File \u001b[1;32mC:\\Python311\\Lib\\site-packages\\pandas\\core\\generic.py:11158\u001b[0m, in \u001b[0;36mNDFrame._stat_function\u001b[1;34m(self, name, func, axis, skipna, numeric_only, **kwargs)\u001b[0m\n\u001b[0;32m  11154\u001b[0m     nv\u001b[38;5;241m.\u001b[39mvalidate_stat_func((), kwargs, fname\u001b[38;5;241m=\u001b[39mname)\n\u001b[0;32m  11156\u001b[0m validate_bool_kwarg(skipna, \u001b[38;5;124m\"\u001b[39m\u001b[38;5;124mskipna\u001b[39m\u001b[38;5;124m\"\u001b[39m, none_allowed\u001b[38;5;241m=\u001b[39m\u001b[38;5;28;01mFalse\u001b[39;00m)\n\u001b[1;32m> 11158\u001b[0m \u001b[38;5;28;01mreturn\u001b[39;00m \u001b[38;5;28;43mself\u001b[39;49m\u001b[38;5;241;43m.\u001b[39;49m\u001b[43m_reduce\u001b[49m\u001b[43m(\u001b[49m\n\u001b[0;32m  11159\u001b[0m \u001b[43m    \u001b[49m\u001b[43mfunc\u001b[49m\u001b[43m,\u001b[49m\u001b[43m \u001b[49m\u001b[43mname\u001b[49m\u001b[38;5;241;43m=\u001b[39;49m\u001b[43mname\u001b[49m\u001b[43m,\u001b[49m\u001b[43m \u001b[49m\u001b[43maxis\u001b[49m\u001b[38;5;241;43m=\u001b[39;49m\u001b[43maxis\u001b[49m\u001b[43m,\u001b[49m\u001b[43m \u001b[49m\u001b[43mskipna\u001b[49m\u001b[38;5;241;43m=\u001b[39;49m\u001b[43mskipna\u001b[49m\u001b[43m,\u001b[49m\u001b[43m \u001b[49m\u001b[43mnumeric_only\u001b[49m\u001b[38;5;241;43m=\u001b[39;49m\u001b[43mnumeric_only\u001b[49m\n\u001b[0;32m  11160\u001b[0m \u001b[43m\u001b[49m\u001b[43m)\u001b[49m\n",
      "File \u001b[1;32mC:\\Python311\\Lib\\site-packages\\pandas\\core\\frame.py:10519\u001b[0m, in \u001b[0;36mDataFrame._reduce\u001b[1;34m(self, op, name, axis, skipna, numeric_only, filter_type, **kwds)\u001b[0m\n\u001b[0;32m  10515\u001b[0m     df \u001b[38;5;241m=\u001b[39m df\u001b[38;5;241m.\u001b[39mT\n\u001b[0;32m  10517\u001b[0m \u001b[38;5;66;03m# After possibly _get_data and transposing, we are now in the\u001b[39;00m\n\u001b[0;32m  10518\u001b[0m \u001b[38;5;66;03m#  simple case where we can use BlockManager.reduce\u001b[39;00m\n\u001b[1;32m> 10519\u001b[0m res \u001b[38;5;241m=\u001b[39m \u001b[43mdf\u001b[49m\u001b[38;5;241;43m.\u001b[39;49m\u001b[43m_mgr\u001b[49m\u001b[38;5;241;43m.\u001b[39;49m\u001b[43mreduce\u001b[49m\u001b[43m(\u001b[49m\u001b[43mblk_func\u001b[49m\u001b[43m)\u001b[49m\n\u001b[0;32m  10520\u001b[0m out \u001b[38;5;241m=\u001b[39m df\u001b[38;5;241m.\u001b[39m_constructor(res)\u001b[38;5;241m.\u001b[39miloc[\u001b[38;5;241m0\u001b[39m]\n\u001b[0;32m  10521\u001b[0m \u001b[38;5;28;01mif\u001b[39;00m out_dtype \u001b[38;5;129;01mis\u001b[39;00m \u001b[38;5;129;01mnot\u001b[39;00m \u001b[38;5;28;01mNone\u001b[39;00m:\n",
      "File \u001b[1;32mC:\\Python311\\Lib\\site-packages\\pandas\\core\\internals\\managers.py:1534\u001b[0m, in \u001b[0;36mBlockManager.reduce\u001b[1;34m(self, func)\u001b[0m\n\u001b[0;32m   1532\u001b[0m res_blocks: \u001b[38;5;28mlist\u001b[39m[Block] \u001b[38;5;241m=\u001b[39m []\n\u001b[0;32m   1533\u001b[0m \u001b[38;5;28;01mfor\u001b[39;00m blk \u001b[38;5;129;01min\u001b[39;00m \u001b[38;5;28mself\u001b[39m\u001b[38;5;241m.\u001b[39mblocks:\n\u001b[1;32m-> 1534\u001b[0m     nbs \u001b[38;5;241m=\u001b[39m \u001b[43mblk\u001b[49m\u001b[38;5;241;43m.\u001b[39;49m\u001b[43mreduce\u001b[49m\u001b[43m(\u001b[49m\u001b[43mfunc\u001b[49m\u001b[43m)\u001b[49m\n\u001b[0;32m   1535\u001b[0m     res_blocks\u001b[38;5;241m.\u001b[39mextend(nbs)\n\u001b[0;32m   1537\u001b[0m index \u001b[38;5;241m=\u001b[39m Index([\u001b[38;5;28;01mNone\u001b[39;00m])  \u001b[38;5;66;03m# placeholder\u001b[39;00m\n",
      "File \u001b[1;32mC:\\Python311\\Lib\\site-packages\\pandas\\core\\internals\\blocks.py:339\u001b[0m, in \u001b[0;36mBlock.reduce\u001b[1;34m(self, func)\u001b[0m\n\u001b[0;32m    333\u001b[0m \u001b[38;5;129m@final\u001b[39m\n\u001b[0;32m    334\u001b[0m \u001b[38;5;28;01mdef\u001b[39;00m \u001b[38;5;21mreduce\u001b[39m(\u001b[38;5;28mself\u001b[39m, func) \u001b[38;5;241m-\u001b[39m\u001b[38;5;241m>\u001b[39m \u001b[38;5;28mlist\u001b[39m[Block]:\n\u001b[0;32m    335\u001b[0m     \u001b[38;5;66;03m# We will apply the function and reshape the result into a single-row\u001b[39;00m\n\u001b[0;32m    336\u001b[0m     \u001b[38;5;66;03m#  Block with the same mgr_locs; squeezing will be done at a higher level\u001b[39;00m\n\u001b[0;32m    337\u001b[0m     \u001b[38;5;28;01massert\u001b[39;00m \u001b[38;5;28mself\u001b[39m\u001b[38;5;241m.\u001b[39mndim \u001b[38;5;241m==\u001b[39m \u001b[38;5;241m2\u001b[39m\n\u001b[1;32m--> 339\u001b[0m     result \u001b[38;5;241m=\u001b[39m \u001b[43mfunc\u001b[49m\u001b[43m(\u001b[49m\u001b[38;5;28;43mself\u001b[39;49m\u001b[38;5;241;43m.\u001b[39;49m\u001b[43mvalues\u001b[49m\u001b[43m)\u001b[49m\n\u001b[0;32m    341\u001b[0m     \u001b[38;5;28;01mif\u001b[39;00m \u001b[38;5;28mself\u001b[39m\u001b[38;5;241m.\u001b[39mvalues\u001b[38;5;241m.\u001b[39mndim \u001b[38;5;241m==\u001b[39m \u001b[38;5;241m1\u001b[39m:\n\u001b[0;32m    342\u001b[0m         \u001b[38;5;66;03m# TODO(EA2D): special case not needed with 2D EAs\u001b[39;00m\n\u001b[0;32m    343\u001b[0m         res_values \u001b[38;5;241m=\u001b[39m np\u001b[38;5;241m.\u001b[39marray([[result]])\n",
      "File \u001b[1;32mC:\\Python311\\Lib\\site-packages\\pandas\\core\\frame.py:10480\u001b[0m, in \u001b[0;36mDataFrame._reduce.<locals>.blk_func\u001b[1;34m(values, axis)\u001b[0m\n\u001b[0;32m  10476\u001b[0m     \u001b[38;5;28;01mif\u001b[39;00m \u001b[38;5;129;01mnot\u001b[39;00m is_1d_only_ea_dtype(values\u001b[38;5;241m.\u001b[39mdtype) \u001b[38;5;129;01mand\u001b[39;00m \u001b[38;5;129;01mnot\u001b[39;00m \u001b[38;5;28misinstance\u001b[39m(\n\u001b[0;32m  10477\u001b[0m         \u001b[38;5;28mself\u001b[39m\u001b[38;5;241m.\u001b[39m_mgr, ArrayManager\n\u001b[0;32m  10478\u001b[0m     ):\n\u001b[0;32m  10479\u001b[0m         \u001b[38;5;28;01mreturn\u001b[39;00m values\u001b[38;5;241m.\u001b[39m_reduce(name, axis\u001b[38;5;241m=\u001b[39m\u001b[38;5;241m1\u001b[39m, skipna\u001b[38;5;241m=\u001b[39mskipna, \u001b[38;5;241m*\u001b[39m\u001b[38;5;241m*\u001b[39mkwds)\n\u001b[1;32m> 10480\u001b[0m     \u001b[38;5;28;01mreturn\u001b[39;00m \u001b[43mvalues\u001b[49m\u001b[38;5;241;43m.\u001b[39;49m\u001b[43m_reduce\u001b[49m\u001b[43m(\u001b[49m\u001b[43mname\u001b[49m\u001b[43m,\u001b[49m\u001b[43m \u001b[49m\u001b[43mskipna\u001b[49m\u001b[38;5;241;43m=\u001b[39;49m\u001b[43mskipna\u001b[49m\u001b[43m,\u001b[49m\u001b[43m \u001b[49m\u001b[38;5;241;43m*\u001b[39;49m\u001b[38;5;241;43m*\u001b[39;49m\u001b[43mkwds\u001b[49m\u001b[43m)\u001b[49m\n\u001b[0;32m  10481\u001b[0m \u001b[38;5;28;01melse\u001b[39;00m:\n\u001b[0;32m  10482\u001b[0m     \u001b[38;5;28;01mreturn\u001b[39;00m op(values, axis\u001b[38;5;241m=\u001b[39maxis, skipna\u001b[38;5;241m=\u001b[39mskipna, \u001b[38;5;241m*\u001b[39m\u001b[38;5;241m*\u001b[39mkwds)\n",
      "File \u001b[1;32mC:\\Python311\\Lib\\site-packages\\pandas\\core\\arrays\\base.py:1440\u001b[0m, in \u001b[0;36mExtensionArray._reduce\u001b[1;34m(self, name, skipna, **kwargs)\u001b[0m\n\u001b[0;32m   1438\u001b[0m meth \u001b[38;5;241m=\u001b[39m \u001b[38;5;28mgetattr\u001b[39m(\u001b[38;5;28mself\u001b[39m, name, \u001b[38;5;28;01mNone\u001b[39;00m)\n\u001b[0;32m   1439\u001b[0m \u001b[38;5;28;01mif\u001b[39;00m meth \u001b[38;5;129;01mis\u001b[39;00m \u001b[38;5;28;01mNone\u001b[39;00m:\n\u001b[1;32m-> 1440\u001b[0m     \u001b[38;5;28;01mraise\u001b[39;00m \u001b[38;5;167;01mTypeError\u001b[39;00m(\n\u001b[0;32m   1441\u001b[0m         \u001b[38;5;124mf\u001b[39m\u001b[38;5;124m\"\u001b[39m\u001b[38;5;124m'\u001b[39m\u001b[38;5;132;01m{\u001b[39;00m\u001b[38;5;28mtype\u001b[39m(\u001b[38;5;28mself\u001b[39m)\u001b[38;5;241m.\u001b[39m\u001b[38;5;18m__name__\u001b[39m\u001b[38;5;132;01m}\u001b[39;00m\u001b[38;5;124m'\u001b[39m\u001b[38;5;124m with dtype \u001b[39m\u001b[38;5;132;01m{\u001b[39;00m\u001b[38;5;28mself\u001b[39m\u001b[38;5;241m.\u001b[39mdtype\u001b[38;5;132;01m}\u001b[39;00m\u001b[38;5;124m \u001b[39m\u001b[38;5;124m\"\u001b[39m\n\u001b[0;32m   1442\u001b[0m         \u001b[38;5;124mf\u001b[39m\u001b[38;5;124m\"\u001b[39m\u001b[38;5;124mdoes not support reduction \u001b[39m\u001b[38;5;124m'\u001b[39m\u001b[38;5;132;01m{\u001b[39;00mname\u001b[38;5;132;01m}\u001b[39;00m\u001b[38;5;124m'\u001b[39m\u001b[38;5;124m\"\u001b[39m\n\u001b[0;32m   1443\u001b[0m     )\n\u001b[0;32m   1444\u001b[0m \u001b[38;5;28;01mreturn\u001b[39;00m meth(skipna\u001b[38;5;241m=\u001b[39mskipna, \u001b[38;5;241m*\u001b[39m\u001b[38;5;241m*\u001b[39mkwargs)\n",
      "\u001b[1;31mTypeError\u001b[0m: 'Categorical' with dtype category does not support reduction 'skew'"
     ]
    }
   ],
   "source": [
    "df1.skew(axis=0)"
   ]
  },
  {
   "cell_type": "code",
   "execution_count": null,
   "id": "98666053-7c10-4a27-b7ac-692e6583fb08",
   "metadata": {},
   "outputs": [],
   "source": [
    "sb.boxplot(y=df['selling_price'])"
   ]
  },
  {
   "cell_type": "code",
   "execution_count": null,
   "id": "5022ce31-cbf7-42ad-b100-3337d43f457a",
   "metadata": {},
   "outputs": [],
   "source": [
    "import numpy as np"
   ]
  },
  {
   "cell_type": "code",
   "execution_count": null,
   "id": "ff5aba58-de9e-4124-a4ee-f623967d2c88",
   "metadata": {},
   "outputs": [],
   "source": [
    "Q1 = df1['selling_price'].quantile(0.25)\n",
    "Q3 = df1['selling_price'].quantile(0.75)\n",
    "IQR = Q3 - Q1\n",
    "IQR\n",
    "threshold=1.5"
   ]
  },
  {
   "cell_type": "code",
   "execution_count": null,
   "id": "babffe84-33c1-4d57-a2fe-39450dc2017b",
   "metadata": {},
   "outputs": [],
   "source": [
    "Q3,IQR,Q1\n"
   ]
  },
  {
   "cell_type": "code",
   "execution_count": null,
   "id": "17e89fd4-f9f7-4e55-b7e3-431454127c75",
   "metadata": {},
   "outputs": [],
   "source": [
    "ll=Q1-threshold * IQR\n",
    "ll"
   ]
  },
  {
   "cell_type": "code",
   "execution_count": null,
   "id": "f0f8fce1-a0d2-4ef2-aac2-b7c2c6901266",
   "metadata": {},
   "outputs": [],
   "source": [
    "ul="
   ]
  },
  {
   "cell_type": "code",
   "execution_count": null,
   "id": "28e0bb1d-09da-4ec9-9061-4802178ecf21",
   "metadata": {},
   "outputs": [],
   "source": [
    "outliers = df1[(df1['selling_price'] < Q1 - threshold * IQR) | (df1['selling_price'] > Q3 + threshold * IQR)]\n",
    "df1 = df1.drop(outliers.index)"
   ]
  },
  {
   "cell_type": "code",
   "execution_count": null,
   "id": "033f33f7-cce6-4b51-a8ca-fd75fc811452",
   "metadata": {},
   "outputs": [],
   "source": [
    "sb.boxplot(y=df['selling_price'])"
   ]
  },
  {
   "cell_type": "code",
   "execution_count": 48,
   "id": "c1eb5d52-5f64-41f0-872e-c3e49d674943",
   "metadata": {},
   "outputs": [
    {
     "name": "stdout",
     "output_type": "stream",
     "text": [
      "<class 'pandas.core.frame.DataFrame'>\n",
      "Index: 149861 entries, 660 to 181672\n",
      "Data columns (total 10 columns):\n",
      " #   Column         Non-Null Count   Dtype   \n",
      "---  ------         --------------   -----   \n",
      " 0   quantity tons  149861 non-null  category\n",
      " 1   customer       149861 non-null  category\n",
      " 2   country        149861 non-null  category\n",
      " 3   application    149861 non-null  category\n",
      " 4   thickness      149861 non-null  category\n",
      " 5   width          149861 non-null  category\n",
      " 6   product_ref    149861 non-null  category\n",
      " 7   selling_price  149861 non-null  float64 \n",
      " 8   new_status     149861 non-null  int32   \n",
      " 9   item_type      149861 non-null  int32   \n",
      "dtypes: category(7), float64(1), int32(2)\n",
      "memory usage: 10.6 MB\n"
     ]
    }
   ],
   "source": [
    "df.info()"
   ]
  },
  {
   "cell_type": "code",
   "execution_count": 49,
   "id": "dcdc67de-5dbf-40d7-b59e-c9669bc63d9a",
   "metadata": {},
   "outputs": [],
   "source": [
    "from sklearn.feature_selection import SelectKBest\n",
    "from sklearn.feature_selection import f_classif"
   ]
  },
  {
   "cell_type": "code",
   "execution_count": 51,
   "id": "be91d2d8-66d6-4303-82e1-f404199fa115",
   "metadata": {},
   "outputs": [
    {
     "ename": "NameError",
     "evalue": "name 'array' is not defined",
     "output_type": "error",
     "traceback": [
      "\u001b[1;31m---------------------------------------------------------------------------\u001b[0m",
      "\u001b[1;31mNameError\u001b[0m                                 Traceback (most recent call last)",
      "Cell \u001b[1;32mIn[51], line 1\u001b[0m\n\u001b[1;32m----> 1\u001b[0m X \u001b[38;5;241m=\u001b[39m \u001b[43marray\u001b[49m[:,\u001b[38;5;241m0\u001b[39m:\u001b[38;5;241m8\u001b[39m]\n\u001b[0;32m      2\u001b[0m Y \u001b[38;5;241m=\u001b[39m array[:,\u001b[38;5;241m8\u001b[39m]\n",
      "\u001b[1;31mNameError\u001b[0m: name 'array' is not defined"
     ]
    }
   ],
   "source": [
    "X = array[:,0:8]\n",
    "Y = array[:,8]"
   ]
  },
  {
   "cell_type": "code",
   "execution_count": 50,
   "id": "6d31dd76-806d-411f-900a-42015ef52654",
   "metadata": {},
   "outputs": [
    {
     "ename": "NameError",
     "evalue": "name 'X' is not defined",
     "output_type": "error",
     "traceback": [
      "\u001b[1;31m---------------------------------------------------------------------------\u001b[0m",
      "\u001b[1;31mNameError\u001b[0m                                 Traceback (most recent call last)",
      "Cell \u001b[1;32mIn[50], line 1\u001b[0m\n\u001b[1;32m----> 1\u001b[0m \u001b[43mX\u001b[49m\n",
      "\u001b[1;31mNameError\u001b[0m: name 'X' is not defined"
     ]
    }
   ],
   "source": [
    "X"
   ]
  },
  {
   "cell_type": "code",
   "execution_count": null,
   "id": "eb27f0ac-0d18-4ad9-9b2e-2636ad8bc438",
   "metadata": {},
   "outputs": [],
   "source": []
  },
  {
   "cell_type": "code",
   "execution_count": null,
   "id": "78a7f77b-03ec-4ca0-a298-9ce580830531",
   "metadata": {},
   "outputs": [],
   "source": []
  },
  {
   "cell_type": "code",
   "execution_count": null,
   "id": "938ccc6b-69e0-4875-a32e-e5b6ad6fe471",
   "metadata": {},
   "outputs": [],
   "source": []
  },
  {
   "cell_type": "code",
   "execution_count": null,
   "id": "7a150c4a-64e4-4ce7-b560-9e0263165fdd",
   "metadata": {},
   "outputs": [],
   "source": []
  },
  {
   "cell_type": "code",
   "execution_count": null,
   "id": "6adb8c3f-fd8b-43d0-a8b8-eaa521846bc0",
   "metadata": {},
   "outputs": [],
   "source": []
  },
  {
   "cell_type": "code",
   "execution_count": 67,
   "id": "ffc0a5fd-8dfa-477e-af45-3c55ff96576b",
   "metadata": {},
   "outputs": [
    {
     "data": {
      "text/html": [
       "<div>\n",
       "<style scoped>\n",
       "    .dataframe tbody tr th:only-of-type {\n",
       "        vertical-align: middle;\n",
       "    }\n",
       "\n",
       "    .dataframe tbody tr th {\n",
       "        vertical-align: top;\n",
       "    }\n",
       "\n",
       "    .dataframe thead th {\n",
       "        text-align: right;\n",
       "    }\n",
       "</style>\n",
       "<table border=\"1\" class=\"dataframe\">\n",
       "  <thead>\n",
       "    <tr style=\"text-align: right;\">\n",
       "      <th></th>\n",
       "      <th>id</th>\n",
       "      <th>item_date</th>\n",
       "      <th>quantity tons</th>\n",
       "      <th>customer</th>\n",
       "      <th>country</th>\n",
       "      <th>status</th>\n",
       "      <th>item type</th>\n",
       "      <th>application</th>\n",
       "      <th>thickness</th>\n",
       "      <th>width</th>\n",
       "      <th>material_ref</th>\n",
       "      <th>product_ref</th>\n",
       "      <th>delivery date</th>\n",
       "      <th>selling_price</th>\n",
       "      <th>new_status</th>\n",
       "      <th>item_type</th>\n",
       "    </tr>\n",
       "  </thead>\n",
       "  <tbody>\n",
       "    <tr>\n",
       "      <th>660</th>\n",
       "      <td>C935F95A-F469-4533-BBB7-0DB1356581B6</td>\n",
       "      <td>2021-03-31</td>\n",
       "      <td>85.26786769</td>\n",
       "      <td>30199280</td>\n",
       "      <td>26</td>\n",
       "      <td>Won</td>\n",
       "      <td>W</td>\n",
       "      <td>42</td>\n",
       "      <td>0.9</td>\n",
       "      <td>1378</td>\n",
       "      <td>0000000000000000000000000000000004019006</td>\n",
       "      <td>611993</td>\n",
       "      <td>2021-07-01</td>\n",
       "      <td>1054.00</td>\n",
       "      <td>1</td>\n",
       "      <td>5</td>\n",
       "    </tr>\n",
       "    <tr>\n",
       "      <th>661</th>\n",
       "      <td>E55B1D55-C6B4-4EB3-BE87-79D9BEFCF743</td>\n",
       "      <td>2021-03-31</td>\n",
       "      <td>47.5684912</td>\n",
       "      <td>30267349</td>\n",
       "      <td>84</td>\n",
       "      <td>Won</td>\n",
       "      <td>W</td>\n",
       "      <td>10</td>\n",
       "      <td>0.7</td>\n",
       "      <td>1500</td>\n",
       "      <td>NaN</td>\n",
       "      <td>1668701718</td>\n",
       "      <td>2021-04-01</td>\n",
       "      <td>1183.31</td>\n",
       "      <td>1</td>\n",
       "      <td>5</td>\n",
       "    </tr>\n",
       "    <tr>\n",
       "      <th>662</th>\n",
       "      <td>B73F459A-4A41-4483-B942-EBA86A33CDF5</td>\n",
       "      <td>2021-03-31</td>\n",
       "      <td>27.59159168</td>\n",
       "      <td>30329989</td>\n",
       "      <td>32</td>\n",
       "      <td>Won</td>\n",
       "      <td>Others</td>\n",
       "      <td>42</td>\n",
       "      <td>0.88</td>\n",
       "      <td>1045</td>\n",
       "      <td>188100079CMUS3ATL</td>\n",
       "      <td>164141591</td>\n",
       "      <td>2021-07-01</td>\n",
       "      <td>1060.00</td>\n",
       "      <td>1</td>\n",
       "      <td>1</td>\n",
       "    </tr>\n",
       "    <tr>\n",
       "      <th>663</th>\n",
       "      <td>D8BF7099-7B4A-4BB2-8B7C-5DC07F8111B4</td>\n",
       "      <td>2021-03-31</td>\n",
       "      <td>100.7131104</td>\n",
       "      <td>30166502</td>\n",
       "      <td>27</td>\n",
       "      <td>Won</td>\n",
       "      <td>W</td>\n",
       "      <td>59</td>\n",
       "      <td>0.8</td>\n",
       "      <td>1058</td>\n",
       "      <td>S350GDHDRAL1028 0.8X1058</td>\n",
       "      <td>611993</td>\n",
       "      <td>2021-07-01</td>\n",
       "      <td>1382.40</td>\n",
       "      <td>1</td>\n",
       "      <td>5</td>\n",
       "    </tr>\n",
       "    <tr>\n",
       "      <th>664</th>\n",
       "      <td>B47D48E1-0FEC-401B-9D96-5235D6E0533D</td>\n",
       "      <td>2021-03-31</td>\n",
       "      <td>16.83525156</td>\n",
       "      <td>30199280</td>\n",
       "      <td>26</td>\n",
       "      <td>Won</td>\n",
       "      <td>W</td>\n",
       "      <td>42</td>\n",
       "      <td>0.4</td>\n",
       "      <td>1004</td>\n",
       "      <td>0000000000000000000000000000000003076167</td>\n",
       "      <td>611993</td>\n",
       "      <td>2021-07-01</td>\n",
       "      <td>1291.00</td>\n",
       "      <td>1</td>\n",
       "      <td>5</td>\n",
       "    </tr>\n",
       "    <tr>\n",
       "      <th>...</th>\n",
       "      <td>...</td>\n",
       "      <td>...</td>\n",
       "      <td>...</td>\n",
       "      <td>...</td>\n",
       "      <td>...</td>\n",
       "      <td>...</td>\n",
       "      <td>...</td>\n",
       "      <td>...</td>\n",
       "      <td>...</td>\n",
       "      <td>...</td>\n",
       "      <td>...</td>\n",
       "      <td>...</td>\n",
       "      <td>...</td>\n",
       "      <td>...</td>\n",
       "      <td>...</td>\n",
       "      <td>...</td>\n",
       "    </tr>\n",
       "    <tr>\n",
       "      <th>181668</th>\n",
       "      <td>DE633116-D1DF-4846-982E-55EFC3658A76</td>\n",
       "      <td>2020-07-02</td>\n",
       "      <td>102.4824216</td>\n",
       "      <td>30200854</td>\n",
       "      <td>25</td>\n",
       "      <td>Won</td>\n",
       "      <td>W</td>\n",
       "      <td>41</td>\n",
       "      <td>0.96</td>\n",
       "      <td>1220</td>\n",
       "      <td>0000000000000000000000000000000001000777</td>\n",
       "      <td>164141591</td>\n",
       "      <td>2020-07-01</td>\n",
       "      <td>591.00</td>\n",
       "      <td>1</td>\n",
       "      <td>5</td>\n",
       "    </tr>\n",
       "    <tr>\n",
       "      <th>181669</th>\n",
       "      <td>A48374B1-E6DB-45F2-889A-1F9C27C099EB</td>\n",
       "      <td>2020-07-02</td>\n",
       "      <td>208.0864686</td>\n",
       "      <td>30200854</td>\n",
       "      <td>25</td>\n",
       "      <td>Won</td>\n",
       "      <td>W</td>\n",
       "      <td>41</td>\n",
       "      <td>0.95</td>\n",
       "      <td>1500</td>\n",
       "      <td>0000000000000000000000000000000001000227</td>\n",
       "      <td>164141591</td>\n",
       "      <td>2020-07-01</td>\n",
       "      <td>589.00</td>\n",
       "      <td>1</td>\n",
       "      <td>5</td>\n",
       "    </tr>\n",
       "    <tr>\n",
       "      <th>181670</th>\n",
       "      <td>91643238-5C7B-4237-9A5F-63AE3D35F320</td>\n",
       "      <td>2020-07-02</td>\n",
       "      <td>4.235593568</td>\n",
       "      <td>30200854</td>\n",
       "      <td>25</td>\n",
       "      <td>Won</td>\n",
       "      <td>W</td>\n",
       "      <td>41</td>\n",
       "      <td>0.71</td>\n",
       "      <td>1250</td>\n",
       "      <td>0000000000000000000000000000000001004216</td>\n",
       "      <td>164141591</td>\n",
       "      <td>2020-07-01</td>\n",
       "      <td>619.00</td>\n",
       "      <td>1</td>\n",
       "      <td>5</td>\n",
       "    </tr>\n",
       "    <tr>\n",
       "      <th>181671</th>\n",
       "      <td>7AFFD323-01D9-4E15-B80D-7D1B03498FC8</td>\n",
       "      <td>2020-07-02</td>\n",
       "      <td>-2000</td>\n",
       "      <td>30200854</td>\n",
       "      <td>25</td>\n",
       "      <td>Won</td>\n",
       "      <td>W</td>\n",
       "      <td>41</td>\n",
       "      <td>0.85</td>\n",
       "      <td>1250</td>\n",
       "      <td>0000000000000000000000000000000001001149</td>\n",
       "      <td>164141591</td>\n",
       "      <td>2020-07-01</td>\n",
       "      <td>601.00</td>\n",
       "      <td>1</td>\n",
       "      <td>5</td>\n",
       "    </tr>\n",
       "    <tr>\n",
       "      <th>181672</th>\n",
       "      <td>AD0CA853-AE3C-4B2F-9FBB-8B0B965F84BC</td>\n",
       "      <td>2020-07-02</td>\n",
       "      <td>406.6865384</td>\n",
       "      <td>30200854</td>\n",
       "      <td>25</td>\n",
       "      <td>Won</td>\n",
       "      <td>W</td>\n",
       "      <td>41</td>\n",
       "      <td>0.71</td>\n",
       "      <td>1240</td>\n",
       "      <td>0000000000000000000000000000000001005439</td>\n",
       "      <td>164141591</td>\n",
       "      <td>2020-07-01</td>\n",
       "      <td>607.00</td>\n",
       "      <td>1</td>\n",
       "      <td>5</td>\n",
       "    </tr>\n",
       "  </tbody>\n",
       "</table>\n",
       "<p>149866 rows × 16 columns</p>\n",
       "</div>"
      ],
      "text/plain": [
       "                                          id   item_date quantity tons  \\\n",
       "660     C935F95A-F469-4533-BBB7-0DB1356581B6  2021-03-31   85.26786769   \n",
       "661     E55B1D55-C6B4-4EB3-BE87-79D9BEFCF743  2021-03-31    47.5684912   \n",
       "662     B73F459A-4A41-4483-B942-EBA86A33CDF5  2021-03-31   27.59159168   \n",
       "663     D8BF7099-7B4A-4BB2-8B7C-5DC07F8111B4  2021-03-31   100.7131104   \n",
       "664     B47D48E1-0FEC-401B-9D96-5235D6E0533D  2021-03-31   16.83525156   \n",
       "...                                      ...         ...           ...   \n",
       "181668  DE633116-D1DF-4846-982E-55EFC3658A76  2020-07-02   102.4824216   \n",
       "181669  A48374B1-E6DB-45F2-889A-1F9C27C099EB  2020-07-02   208.0864686   \n",
       "181670  91643238-5C7B-4237-9A5F-63AE3D35F320  2020-07-02   4.235593568   \n",
       "181671  7AFFD323-01D9-4E15-B80D-7D1B03498FC8  2020-07-02         -2000   \n",
       "181672  AD0CA853-AE3C-4B2F-9FBB-8B0B965F84BC  2020-07-02   406.6865384   \n",
       "\n",
       "        customer country status item type application thickness width  \\\n",
       "660     30199280      26    Won         W          42       0.9  1378   \n",
       "661     30267349      84    Won         W          10       0.7  1500   \n",
       "662     30329989      32    Won    Others          42      0.88  1045   \n",
       "663     30166502      27    Won         W          59       0.8  1058   \n",
       "664     30199280      26    Won         W          42       0.4  1004   \n",
       "...          ...     ...    ...       ...         ...       ...   ...   \n",
       "181668  30200854      25    Won         W          41      0.96  1220   \n",
       "181669  30200854      25    Won         W          41      0.95  1500   \n",
       "181670  30200854      25    Won         W          41      0.71  1250   \n",
       "181671  30200854      25    Won         W          41      0.85  1250   \n",
       "181672  30200854      25    Won         W          41      0.71  1240   \n",
       "\n",
       "                                    material_ref product_ref delivery date  \\\n",
       "660     0000000000000000000000000000000004019006      611993    2021-07-01   \n",
       "661                                          NaN  1668701718    2021-04-01   \n",
       "662                            188100079CMUS3ATL   164141591    2021-07-01   \n",
       "663                     S350GDHDRAL1028 0.8X1058      611993    2021-07-01   \n",
       "664     0000000000000000000000000000000003076167      611993    2021-07-01   \n",
       "...                                          ...         ...           ...   \n",
       "181668  0000000000000000000000000000000001000777   164141591    2020-07-01   \n",
       "181669  0000000000000000000000000000000001000227   164141591    2020-07-01   \n",
       "181670  0000000000000000000000000000000001004216   164141591    2020-07-01   \n",
       "181671  0000000000000000000000000000000001001149   164141591    2020-07-01   \n",
       "181672  0000000000000000000000000000000001005439   164141591    2020-07-01   \n",
       "\n",
       "        selling_price  new_status  item_type  \n",
       "660           1054.00           1          5  \n",
       "661           1183.31           1          5  \n",
       "662           1060.00           1          1  \n",
       "663           1382.40           1          5  \n",
       "664           1291.00           1          5  \n",
       "...               ...         ...        ...  \n",
       "181668         591.00           1          5  \n",
       "181669         589.00           1          5  \n",
       "181670         619.00           1          5  \n",
       "181671         601.00           1          5  \n",
       "181672         607.00           1          5  \n",
       "\n",
       "[149866 rows x 16 columns]"
      ]
     },
     "execution_count": 67,
     "metadata": {},
     "output_type": "execute_result"
    }
   ],
   "source": [
    "df1"
   ]
  },
  {
   "cell_type": "code",
   "execution_count": null,
   "id": "b7cf4a42-57a7-4c76-b60d-1150add95465",
   "metadata": {},
   "outputs": [],
   "source": []
  }
 ],
 "metadata": {
  "kernelspec": {
   "display_name": "Python 3 (ipykernel)",
   "language": "python",
   "name": "python3"
  },
  "language_info": {
   "codemirror_mode": {
    "name": "ipython",
    "version": 3
   },
   "file_extension": ".py",
   "mimetype": "text/x-python",
   "name": "python",
   "nbconvert_exporter": "python",
   "pygments_lexer": "ipython3",
   "version": "3.11.5"
  }
 },
 "nbformat": 4,
 "nbformat_minor": 5
}
